{
 "cells": [
  {
   "cell_type": "markdown",
   "metadata": {
    "nbsphinx": "hidden"
   },
   "source": [
    "This notebook is part of the `kikuchipy` documentation https://kikuchipy.org.\n",
    "Links to the documentation won't work from the notebook."
   ]
  },
  {
   "cell_type": "markdown",
   "metadata": {},
   "source": [
    "# Change scan and pattern size\n",
    "\n",
    "Patterns in an [EBSD](reference.rst#kikuchipy.signals.EBSD) or\n",
    "[EBSDMasterPattern](reference.rst#kikuchipy.signals.EBSDMasterPattern) signal\n",
    "`s` are stored in the `s.data` attribute as either [numpy.ndarray](https://numpy.org/doc/stable/reference/generated/numpy.ndarray.html) or\n",
    "[dask.array.Array](https://docs.dask.org/en/latest/array.html).\n",
    "[HyperSpy's user guide](http://hyperspy.org/hyperspy-doc/current/user_guide/signal.html#indexing)\n",
    "explains how to access, i.e. index, the data. This section details example uses\n",
    "of scan (navigation) and pattern (signal) indexing specific to EBSD and\n",
    "EBSDMasterPattern signals."
   ]
  },
  {
   "cell_type": "markdown",
   "metadata": {},
   "source": [
    "Let's import the necessary libraries, a larger Nickel EBSD test data set from\n",
    "the [kikuchipy.data](reference.rst#kikuchipy.data.nickel_ebsd_large) module\n",
    "<cite data-cite=\"anes2019electron\">Ånes et al. (2019)</cite>, and the Nickel\n",
    "master pattern, also from the data module:"
   ]
  },
  {
   "cell_type": "code",
   "execution_count": 24,
   "metadata": {},
   "outputs": [
    {
     "name": "stdout",
     "output_type": "stream",
     "text": [
      "<EBSD, title: patterns Scan 1, dimensions: (75, 55|60, 60)>\n",
      "<EBSDMasterPattern, title: ni_mc_mp_20kv_uint8_gzip_opts9, dimensions: (2|401, 401)> spherical\n"
     ]
    }
   ],
   "source": [
    "# exchange inline for qt5 for interactive plotting from the pyqt package\n",
    "%matplotlib inline\n",
    "\n",
    "import hyperspy.api as hs\n",
    "import kikuchipy as kp\n",
    "import matplotlib.pyplot as plt\n",
    "import numpy as np\n",
    "\n",
    "plt.rcParams[\"font.size\"] = 15\n",
    "\n",
    "\n",
    "# Use kp.load(\"data.h5\") to load your own data\n",
    "s = kp.data.nickel_ebsd_large(allow_download=True)  # External download\n",
    "print(s)\n",
    "\n",
    "s_mp = kp.data.nickel_ebsd_master_pattern_small(hemisphere=\"both\")\n",
    "print(s_mp, s_mp.projection)"
   ]
  },
  {
   "cell_type": "markdown",
   "metadata": {},
   "source": [
    "## Crop a scan or pattern\n",
    "\n",
    "A new `EBSD` or `EBSDMasterPattern` signal `s2` can be created from a region of\n",
    "interest (ROI) in another EBSD or EBSDMasterPattern signal `s` by using\n",
    "HyperSpy's navigation indexing method ``inav``. The new signal keeps the\n",
    "`metadata` and `original_metadata` of `s`. Say we, after (lazily) plotting and\n",
    "inspecting the EBSD scan, want to create a new, smaller scan of the patterns\n",
    "within a rectangle defined by the upper left pattern with index (5, 7)\n",
    "(column, row) and the bottom right pattern with index (17, 23):"
   ]
  },
  {
   "cell_type": "code",
   "execution_count": 5,
   "metadata": {},
   "outputs": [
    {
     "data": {
      "text/plain": [
       "<EBSD, title: patterns Scan 1, dimensions: (12, 16|60, 60)>"
      ]
     },
     "execution_count": 5,
     "metadata": {},
     "output_type": "execute_result"
    }
   ],
   "source": [
    "s2 = s.inav[5:17, 7:23]\n",
    "s2"
   ]
  },
  {
   "cell_type": "markdown",
   "metadata": {},
   "source": [
    "Or, we want only the northern hemisphere of the `EBSDMasterPattern`:"
   ]
  },
  {
   "cell_type": "code",
   "execution_count": 11,
   "metadata": {},
   "outputs": [
    {
     "data": {
      "text/plain": [
       "<EBSDMasterPattern, title: ni_mc_mp_20kv_uint8_gzip_opts9, dimensions: (|401, 401)>"
      ]
     },
     "execution_count": 11,
     "metadata": {},
     "output_type": "execute_result"
    }
   ],
   "source": [
    "s_mp2 = s_mp.inav[0]\n",
    "s_mp2"
   ]
  },
  {
   "cell_type": "markdown",
   "metadata": {},
   "source": [
    "Patterns can also be cropped with the signal indexing method `isig`. Say we\n",
    "wanted to remove the ten outermost pixels in our (60, 60) pixel Nickel patterns:"
   ]
  },
  {
   "cell_type": "code",
   "execution_count": 12,
   "metadata": {},
   "outputs": [
    {
     "data": {
      "text/plain": [
       "<EBSD, title: patterns Scan 1, dimensions: (75, 55|40, 40)>"
      ]
     },
     "execution_count": 12,
     "metadata": {},
     "output_type": "execute_result"
    }
   ],
   "source": [
    "s3 = s.isig[10:50, 10:50]\n",
    "s3"
   ]
  },
  {
   "cell_type": "code",
   "execution_count": 25,
   "metadata": {},
   "outputs": [
    {
     "data": {
      "image/png": "[encoded data removed]",
      "text/plain": [
       "<Figure size 936x432 with 2 Axes>"
      ]
     },
     "metadata": {
      "needs_background": "light"
     },
     "output_type": "display_data"
    }
   ],
   "source": [
    "_, ax = plt.subplots(figsize=(13, 6), ncols=2)\n",
    "ax[0].imshow(s.inav[10, 50].data, cmap=\"gray\")\n",
    "ax[0].set_title(\"Original\")\n",
    "ax[1].imshow(s3.inav[10, 50].data, cmap=\"gray\")\n",
    "_ = ax[1].set_title(\"Cropped\")"
   ]
  },
  {
   "cell_type": "markdown",
   "metadata": {},
   "source": [
    "## Binning\n",
    "\n",
    "A new `EBSD` signal with patterns binned e.g. by 2 can be obtained using the\n",
    "[rebin()](reference.rst#kikuchipy.signals.EBSD.rebin) method provided by\n",
    "HyperSpy, explained further in\n",
    "[their user guide](http://hyperspy.org/hyperspy-doc/current/user_guide/signal.html#rebinning),\n",
    "by passing in either the `scale` or `new_shape` parameter:"
   ]
  },
  {
   "cell_type": "code",
   "execution_count": 15,
   "metadata": {},
   "outputs": [
    {
     "name": "stdout",
     "output_type": "stream",
     "text": [
      "<EBSD, title: patterns Scan 1, dimensions: (75, 55|60, 60)> uint8\n"
     ]
    }
   ],
   "source": [
    "print(s, s.data.dtype)"
   ]
  },
  {
   "cell_type": "code",
   "execution_count": 16,
   "metadata": {},
   "outputs": [
    {
     "name": "stdout",
     "output_type": "stream",
     "text": [
      "<EBSD, title: patterns Scan 1, dimensions: (75, 55|30, 30)> uint64\n"
     ]
    }
   ],
   "source": [
    "s4 = s.rebin(scale=(1, 1, 2, 2))\n",
    "print(s4, s4.data.dtype)"
   ]
  },
  {
   "cell_type": "code",
   "execution_count": 17,
   "metadata": {},
   "outputs": [
    {
     "name": "stdout",
     "output_type": "stream",
     "text": [
      "<EBSD, title: patterns Scan 1, dimensions: (75, 55|30, 30)> uint64\n"
     ]
    }
   ],
   "source": [
    "s5 = s.rebin(new_shape=(75, 55, 30, 30))\n",
    "print(s5, s5.data.dtype)"
   ]
  },
  {
   "cell_type": "code",
   "execution_count": 26,
   "metadata": {},
   "outputs": [
    {
     "data": {
      "image/png": "[encoded data removed]",
      "text/plain": [
       "<Figure size 936x432 with 2 Axes>"
      ]
     },
     "metadata": {
      "needs_background": "light"
     },
     "output_type": "display_data"
    }
   ],
   "source": [
    "_, ax = plt.subplots(figsize=(13, 6), ncols=2)\n",
    "ax[0].imshow(s4.inav[10, 50].data, cmap=\"gray\")\n",
    "ax[0].set_title(\"rebin() with scale\")\n",
    "ax[1].imshow(s5.inav[10, 50].data, cmap=\"gray\")\n",
    "_ = ax[1].set_title(\"rebin() with new_shape\")"
   ]
  },
  {
   "cell_type": "markdown",
   "metadata": {},
   "source": [
    "Note that `rebin()` casts the data to `uint64`. This means that in this example,\n",
    "each pixel in the binned signals `s4` and `s5` takes up eight times the memory\n",
    "of pixels in the original signal `s` (`uint8`). To revert to `uint8` data type,\n",
    "we must rescale the intensities with\n",
    "[rescale_intensity()](reference.rst#kikuchipy.signals.EBSD.rescale_intensity).\n",
    "\n",
    "This also works for `EBSDMasterPattern` signals."
   ]
  }
 ],
 "metadata": {
  "kernelspec": {
   "display_name": "Python 3",
   "language": "python",
   "name": "python3"
  },
  "language_info": {
   "codemirror_mode": {
    "name": "ipython",
    "version": 3
   },
   "file_extension": ".py",
   "mimetype": "text/x-python",
   "name": "python",
   "nbconvert_exporter": "python",
   "pygments_lexer": "ipython3",
   "version": "3.8.5"
  }
 },
 "nbformat": 4,
 "nbformat_minor": 4
}

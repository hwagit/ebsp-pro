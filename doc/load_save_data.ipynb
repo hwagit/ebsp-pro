{
 "cells": [
  {
   "cell_type": "markdown",
   "metadata": {
    "nbsphinx": "hidden"
   },
   "source": [
    "This notebook is part of the `kikuchipy` documentation https://kikuchipy.org.\n",
    "Links to the documentation won't work from the notebook."
   ]
  },
  {
   "cell_type": "markdown",
   "metadata": {},
   "source": [
    "# Load and save data\n",
    "\n",
    "## Load patterns\n",
    "\n",
    "### From a file\n",
    "\n",
    "kikuchipy can read and write experimental EBSD patterns and EBSD master patterns\n",
    "from/to multiple formats (see [supported formats](#supported-formats). To load\n",
    "patterns from file use the [load()](reference.rst#kikuchipy.io._io.load)\n",
    "function. Let's import the necessary libraries and read the Nickel EBSD test\n",
    "data set directly from file (not via\n",
    "[kikuchipy.data.nickel_ebsd()](reference.rst#kikuchipy.data.nickel_ebsd)):"
   ]
  },
  {
   "cell_type": "code",
   "execution_count": 20,
   "metadata": {},
   "outputs": [
    {
     "data": {
      "text/plain": [
       "<EBSD, title: Pattern, dimensions: (3, 3|60, 60)>"
      ]
     },
     "execution_count": 20,
     "metadata": {},
     "output_type": "execute_result"
    }
   ],
   "source": [
    "# exchange inline for qt5 for interactive plotting from the pyqt package\n",
    "%matplotlib inline\n",
    "\n",
    "import dask.array as da\n",
    "import hyperspy.api as hs\n",
    "import kikuchipy as kp\n",
    "import numpy as np\n",
    "import matplotlib.pyplot as plt\n",
    "\n",
    "\n",
    "datadir = \"../kikuchipy/data/\"\n",
    "nordif_ebsd = \"nordif/Pattern.dat\"\n",
    "s = kp.load(datadir + nordif_ebsd)\n",
    "s"
   ]
  },
  {
   "cell_type": "markdown",
   "metadata": {},
   "source": [
    "Or, load the spherical projection of the northern hemisphere of an EBSD master\n",
    "pattern for a 20 keV beam energy from a modified version of EMsoft's master\n",
    "pattern file, returned from their `EMEBSDmaster.f90` program:"
   ]
  },
  {
   "cell_type": "code",
   "execution_count": 21,
   "metadata": {},
   "outputs": [
    {
     "data": {
      "text/plain": [
       "<EBSDMasterPattern, title: ni_mc_mp_20kv_uint8_gzip_opts9, dimensions: (|401, 401)>"
      ]
     },
     "execution_count": 21,
     "metadata": {},
     "output_type": "execute_result"
    }
   ],
   "source": [
    "emsoft_master_pattern = (\n",
    " \"emsoft_ebsd_master_pattern/ni_mc_mp_20kv_uint8_gzip_opts9.h5\"\n",
    ")\n",
    "s_mp = kp.load(datadir + emsoft_master_pattern)\n",
    "s_mp"
   ]
  },
  {
   "cell_type": "markdown",
   "metadata": {},
   "source": [
    "Both the spherical and Lambert projections of this master pattern data is\n",
    "available via\n",
    "[kikuchipy.data.nickel_master_pattern()](reference.rst#kikuchipy.data.nickel_master_pattern)."
   ]
  },
  {
   "cell_type": "markdown",
   "metadata": {},
   "source": [
    "All file readers support accessing the data without loading it into memory (with\n",
    "the [Dask library](https://docs.dask.org/en/latest)), which can be useful when\n",
    "processing large data sets to avoid memory errors:"
   ]
  },
  {
   "cell_type": "code",
   "execution_count": 22,
   "metadata": {},
   "outputs": [
    {
     "data": {
      "text/plain": [
       "<LazyEBSD, title: Pattern, dimensions: (3, 3|60, 60)>"
      ]
     },
     "execution_count": 22,
     "metadata": {},
     "output_type": "execute_result"
    }
   ],
   "source": [
    "s_lazy = kp.load(datadir + nordif_ebsd, lazy=True)\n",
    "s_lazy"
   ]
  },
  {
   "cell_type": "markdown",
   "metadata": {},
   "source": [
    "Parts or all of the data can be read into memory by calling\n",
    "[compute()](http://hyperspy.org/hyperspy-doc/current/api/hyperspy._signals.lazy.html#hyperspy._signals.lazy.LazySignal.compute):"
   ]
  },
  {
   "cell_type": "code",
   "execution_count": 23,
   "metadata": {},
   "outputs": [
    {
     "name": "stdout",
     "output_type": "stream",
     "text": [
      "[########################################] | 100% Completed |  0.1s\n"
     ]
    },
    {
     "data": {
      "text/plain": [
       "<EBSD, title: Pattern, dimensions: (2, 3|60, 60)>"
      ]
     },
     "execution_count": 23,
     "metadata": {},
     "output_type": "execute_result"
    }
   ],
   "source": [
    "s_lazy_copy = s_lazy.inav[:2, :].deepcopy()\n",
    "s_lazy_copy.compute()\n",
    "s_lazy_copy"
   ]
  },
  {
   "cell_type": "code",
   "execution_count": 24,
   "metadata": {},
   "outputs": [
    {
     "name": "stdout",
     "output_type": "stream",
     "text": [
      "[########################################] | 100% Completed |  0.1s\n"
     ]
    },
    {
     "data": {
      "text/plain": [
       "<EBSD, title: Pattern, dimensions: (3, 3|60, 60)>"
      ]
     },
     "execution_count": 24,
     "metadata": {},
     "output_type": "execute_result"
    }
   ],
   "source": [
    "s_lazy.compute()\n",
    "s_lazy"
   ]
  },
  {
   "cell_type": "markdown",
   "metadata": {},
   "source": [
    "<div class=\"alert alert-info\">\n",
    "\n",
    "Note\n",
    "\n",
    "When lazily loaded EBSD patterns are processed, they are processed chunk by\n",
    "chunk, which in many cases leads to longer processing times, so processing lazy\n",
    "data sets should be done with some care. See the relevant\n",
    "[HyperSpy user guide](http://hyperspy.org/hyperspy-doc/current/user_guide/big_data.html)\n",
    "for information on how to do this.\n",
    "\n",
    "</div>"
   ]
  },
  {
   "cell_type": "markdown",
   "metadata": {},
   "source": [
    "Visualization of the data is done by navigating the navigation space and looking at the signal in each navigation point:"
   ]
  },
  {
   "cell_type": "code",
   "execution_count": 25,
   "metadata": {},
   "outputs": [
    {
     "data": {
      "image/png": "[encoded data removed]",
      "text/plain": [
       "<Figure size 432x392.727 with 2 Axes>"
      ]
     },
     "metadata": {
      "needs_background": "light"
     },
     "output_type": "display_data"
    },
    {
     "data": {
      "image/png": "[encoded data removed]",
      "text/plain": [
       "<Figure size 432x392.727 with 2 Axes>"
      ]
     },
     "metadata": {
      "needs_background": "light"
     },
     "output_type": "display_data"
    }
   ],
   "source": [
    "s.plot()"
   ]
  },
  {
   "cell_type": "markdown",
   "metadata": {},
   "source": [
    "Upon loading, kikuchipy tries to read all scan information from the file and\n",
    "stores everything it can read in the `original_metadata` attribute:"
   ]
  },
  {
   "cell_type": "code",
   "execution_count": 31,
   "metadata": {},
   "outputs": [],
   "source": [
    "# s.original_metadata  # Long output"
   ]
  },
  {
   "cell_type": "markdown",
   "metadata": {},
   "source": [
    "Also, some information may be stored in a standard location in the `metadata`\n",
    "attribute where it can be used by EBSD class methods:"
   ]
  },
  {
   "cell_type": "code",
   "execution_count": 32,
   "metadata": {},
   "outputs": [
    {
     "data": {
      "text/html": [
       "<ul style=\"margin: 0px; list-style-position: outside;\">\n",
       "                    <details open>\n",
       "                    <summary style=\"display: list-item;\">\n",
       "                    <li style=\"display: inline;\">\n",
       "                    Acquisition_instrument\n",
       "                    </li></summary>\n",
       "                    <ul style=\"margin: 0px; list-style-position: outside;\">\n",
       "                    <details closed>\n",
       "                    <summary style=\"display: list-item;\">\n",
       "                    <li style=\"display: inline;\">\n",
       "                    SEM\n",
       "                    </li></summary>\n",
       "                    <ul style=\"margin: 0px; list-style-position: outside;\">\n",
       "                    <details closed>\n",
       "                    <summary style=\"display: list-item;\">\n",
       "                    <li style=\"display: inline;\">\n",
       "                    Detector\n",
       "                    </li></summary>\n",
       "                    <ul style=\"margin: 0px; list-style-position: outside;\">\n",
       "                    <details closed>\n",
       "                    <summary style=\"display: list-item;\">\n",
       "                    <li style=\"display: inline;\">\n",
       "                    EBSD\n",
       "                    </li></summary>\n",
       "                    \n",
       "    <ul style=\"margin: 0px; list-style-position: outside;\">\n",
       "    <li style='margin-left:1em; padding-left: 0.5em'>azimuth_angle = 0.0</li></ul>\n",
       "    \n",
       "    <ul style=\"margin: 0px; list-style-position: outside;\">\n",
       "    <li style='margin-left:1em; padding-left: 0.5em'>binning = 1</li></ul>\n",
       "    \n",
       "    <ul style=\"margin: 0px; list-style-position: outside;\">\n",
       "    <li style='margin-left:1em; padding-left: 0.5em'>detector = NORDIF UF1100</li></ul>\n",
       "    \n",
       "    <ul style=\"margin: 0px; list-style-position: outside;\">\n",
       "    <li style='margin-left:1em; padding-left: 0.5em'>elevation_angle = 0.0</li></ul>\n",
       "    \n",
       "    <ul style=\"margin: 0px; list-style-position: outside;\">\n",
       "    <li style='margin-left:1em; padding-left: 0.5em'>exposure_time = 0.0035</li></ul>\n",
       "    \n",
       "    <ul style=\"margin: 0px; list-style-position: outside;\">\n",
       "    <li style='margin-left:1em; padding-left: 0.5em'>frame_number = -1</li></ul>\n",
       "    \n",
       "    <ul style=\"margin: 0px; list-style-position: outside;\">\n",
       "    <li style='margin-left:1em; padding-left: 0.5em'>frame_rate = 202</li></ul>\n",
       "    \n",
       "    <ul style=\"margin: 0px; list-style-position: outside;\">\n",
       "    <li style='margin-left:1em; padding-left: 0.5em'>gain = 0.0</li></ul>\n",
       "    \n",
       "    <ul style=\"margin: 0px; list-style-position: outside;\">\n",
       "    <li style='margin-left:1em; padding-left: 0.5em'>grid_type = square</li></ul>\n",
       "    \n",
       "    <ul style=\"margin: 0px; list-style-position: outside;\">\n",
       "    <li style='margin-left:1em; padding-left: 0.5em'>manufacturer = NORDIF</li></ul>\n",
       "    \n",
       "    <ul style=\"margin: 0px; list-style-position: outside;\">\n",
       "    <li style='margin-left:1em; padding-left: 0.5em'>sample_tilt = 70.0</li></ul>\n",
       "    \n",
       "    <ul style=\"margin: 0px; list-style-position: outside;\">\n",
       "    <li style='margin-left:1em; padding-left: 0.5em'>scan_time = 148</li></ul>\n",
       "    \n",
       "    <ul style=\"margin: 0px; list-style-position: outside;\">\n",
       "    <li style='margin-left:1em; padding-left: 0.5em'>static_background = array([[84, 87, 90, ..., 27, 29, 30],\n",
       "       [87, 90, 93, ..., 27, 28, 30],\n",
       "   ...  80, 82, ..., 28, 26, 26],\n",
       "       [76, 78, 80, ..., 26, 26, 25]], dtype=uint8)</li></ul>\n",
       "    \n",
       "    <ul style=\"margin: 0px; list-style-position: outside;\">\n",
       "    <li style='margin-left:1em; padding-left: 0.5em'>version = 3.1.2</li></ul>\n",
       "    \n",
       "    <ul style=\"margin: 0px; list-style-position: outside;\">\n",
       "    <li style='margin-left:1em; padding-left: 0.5em'>xpc = -1.0</li></ul>\n",
       "    \n",
       "    <ul style=\"margin: 0px; list-style-position: outside;\">\n",
       "    <li style='margin-left:1em; padding-left: 0.5em'>ypc = -1.0</li></ul>\n",
       "    \n",
       "    <ul style=\"margin: 0px; list-style-position: outside;\">\n",
       "    <li style='margin-left:1em; padding-left: 0.5em'>zpc = -1.0</li></ul>\n",
       "    </details></ul></details></ul>\n",
       "    <ul style=\"margin: 0px; list-style-position: outside;\">\n",
       "    <li style='margin-left:1em; padding-left: 0.5em'>beam_energy = 20.0</li></ul>\n",
       "    \n",
       "    <ul style=\"margin: 0px; list-style-position: outside;\">\n",
       "    <li style='margin-left:1em; padding-left: 0.5em'>magnification = 200</li></ul>\n",
       "    \n",
       "    <ul style=\"margin: 0px; list-style-position: outside;\">\n",
       "    <li style='margin-left:1em; padding-left: 0.5em'>microscope = Hitachi SU-6600</li></ul>\n",
       "    \n",
       "    <ul style=\"margin: 0px; list-style-position: outside;\">\n",
       "    <li style='margin-left:1em; padding-left: 0.5em'>working_distance = 24.7</li></ul>\n",
       "    </details></ul></details></ul><ul style=\"margin: 0px; list-style-position: outside;\">\n",
       "                    <details open>\n",
       "                    <summary style=\"display: list-item;\">\n",
       "                    <li style=\"display: inline;\">\n",
       "                    General\n",
       "                    </li></summary>\n",
       "                    \n",
       "    <ul style=\"margin: 0px; list-style-position: outside;\">\n",
       "    <li style='margin-left:1em; padding-left: 0.5em'>original_filename = ../kikuchipy/data/nordif/Pattern.dat</li></ul>\n",
       "    \n",
       "    <ul style=\"margin: 0px; list-style-position: outside;\">\n",
       "    <li style='margin-left:1em; padding-left: 0.5em'>title = Pattern</li></ul>\n",
       "    </details></ul><ul style=\"margin: 0px; list-style-position: outside;\">\n",
       "                    <details open>\n",
       "                    <summary style=\"display: list-item;\">\n",
       "                    <li style=\"display: inline;\">\n",
       "                    Sample\n",
       "                    </li></summary>\n",
       "                    <ul style=\"margin: 0px; list-style-position: outside;\">\n",
       "                    <details closed>\n",
       "                    <summary style=\"display: list-item;\">\n",
       "                    <li style=\"display: inline;\">\n",
       "                    Phases\n",
       "                    </li></summary>\n",
       "                    <ul style=\"margin: 0px; list-style-position: outside;\">\n",
       "                    <details closed>\n",
       "                    <summary style=\"display: list-item;\">\n",
       "                    <li style=\"display: inline;\">\n",
       "                    1\n",
       "                    </li></summary>\n",
       "                    <ul style=\"margin: 0px; list-style-position: outside;\">\n",
       "                    <details closed>\n",
       "                    <summary style=\"display: list-item;\">\n",
       "                    <li style=\"display: inline;\">\n",
       "                    atom_coordinates\n",
       "                    </li></summary>\n",
       "                    <ul style=\"margin: 0px; list-style-position: outside;\">\n",
       "                    <details closed>\n",
       "                    <summary style=\"display: list-item;\">\n",
       "                    <li style=\"display: inline;\">\n",
       "                    1\n",
       "                    </li></summary>\n",
       "                    \n",
       "    <ul style=\"margin: 0px; list-style-position: outside;\">\n",
       "    <li style='margin-left:1em; padding-left: 0.5em'>atom = </li></ul>\n",
       "    \n",
       "    <ul style=\"margin: 0px; list-style-position: outside;\">\n",
       "    <li style='margin-left:1em; padding-left: 0.5em'>coordinates = array([0., 0., 0.])</li></ul>\n",
       "    \n",
       "    <ul style=\"margin: 0px; list-style-position: outside;\">\n",
       "    <li style='margin-left:1em; padding-left: 0.5em'>debye_waller_factor = 0.0</li></ul>\n",
       "    \n",
       "    <ul style=\"margin: 0px; list-style-position: outside;\">\n",
       "    <li style='margin-left:1em; padding-left: 0.5em'>site_occupation = 0.0</li></ul>\n",
       "    </details></ul></details></ul>\n",
       "    <ul style=\"margin: 0px; list-style-position: outside;\">\n",
       "    <li style='margin-left:1em; padding-left: 0.5em'>formula = </li></ul>\n",
       "    \n",
       "    <ul style=\"margin: 0px; list-style-position: outside;\">\n",
       "    <li style='margin-left:1em; padding-left: 0.5em'>info = </li></ul>\n",
       "    \n",
       "    <ul style=\"margin: 0px; list-style-position: outside;\">\n",
       "    <li style='margin-left:1em; padding-left: 0.5em'>lattice_constants = array([0., 0., 0., 0., 0., 0.])</li></ul>\n",
       "    \n",
       "    <ul style=\"margin: 0px; list-style-position: outside;\">\n",
       "    <li style='margin-left:1em; padding-left: 0.5em'>laue_group = </li></ul>\n",
       "    \n",
       "    <ul style=\"margin: 0px; list-style-position: outside;\">\n",
       "    <li style='margin-left:1em; padding-left: 0.5em'>material_name = Ni</li></ul>\n",
       "    \n",
       "    <ul style=\"margin: 0px; list-style-position: outside;\">\n",
       "    <li style='margin-left:1em; padding-left: 0.5em'>point_group = </li></ul>\n",
       "    \n",
       "    <ul style=\"margin: 0px; list-style-position: outside;\">\n",
       "    <li style='margin-left:1em; padding-left: 0.5em'>setting = 0</li></ul>\n",
       "    \n",
       "    <ul style=\"margin: 0px; list-style-position: outside;\">\n",
       "    <li style='margin-left:1em; padding-left: 0.5em'>source = </li></ul>\n",
       "    \n",
       "    <ul style=\"margin: 0px; list-style-position: outside;\">\n",
       "    <li style='margin-left:1em; padding-left: 0.5em'>space_group = 0</li></ul>\n",
       "    \n",
       "    <ul style=\"margin: 0px; list-style-position: outside;\">\n",
       "    <li style='margin-left:1em; padding-left: 0.5em'>symmetry = 0</li></ul>\n",
       "    </details></ul></details></ul></details></ul><ul style=\"margin: 0px; list-style-position: outside;\">\n",
       "                    <details open>\n",
       "                    <summary style=\"display: list-item;\">\n",
       "                    <li style=\"display: inline;\">\n",
       "                    Signal\n",
       "                    </li></summary>\n",
       "                    \n",
       "    <ul style=\"margin: 0px; list-style-position: outside;\">\n",
       "    <li style='margin-left:1em; padding-left: 0.5em'>binned = False</li></ul>\n",
       "    \n",
       "    <ul style=\"margin: 0px; list-style-position: outside;\">\n",
       "    <li style='margin-left:1em; padding-left: 0.5em'>signal_type = EBSD</li></ul>\n",
       "    </details></ul>"
      ],
      "text/plain": [
       "├── Acquisition_instrument\n",
       "│   └── SEM\n",
       "│       ├── Detector\n",
       "│       │   └── EBSD\n",
       "│       │       ├── azimuth_angle = 0.0\n",
       "│       │       ├── binning = 1\n",
       "│       │       ├── detector = NORDIF UF1100\n",
       "│       │       ├── elevation_angle = 0.0\n",
       "│       │       ├── exposure_time = 0.0035\n",
       "│       │       ├── frame_number = -1\n",
       "│       │       ├── frame_rate = 202\n",
       "│       │       ├── gain = 0.0\n",
       "│       │       ├── grid_type = square\n",
       "│       │       ├── manufacturer = NORDIF\n",
       "│       │       ├── sample_tilt = 70.0\n",
       "│       │       ├── scan_time = 148\n",
       "│       │       ├── static_background = array([[84, 87, 90, ..., 27, 29, 30],\n",
       "       [87, 90, 93, ..., 27, 28, 30],\n",
       "   ...  80, 82, ..., 28, 26, 26],\n",
       "       [76, 78, 80, ..., 26, 26, 25]], dtype=uint8)\n",
       "│       │       ├── version = 3.1.2\n",
       "│       │       ├── xpc = -1.0\n",
       "│       │       ├── ypc = -1.0\n",
       "│       │       └── zpc = -1.0\n",
       "│       ├── beam_energy = 20.0\n",
       "│       ├── magnification = 200\n",
       "│       ├── microscope = Hitachi SU-6600\n",
       "│       └── working_distance = 24.7\n",
       "├── General\n",
       "│   ├── original_filename = ../kikuchipy/data/nordif/Pattern.dat\n",
       "│   └── title = Pattern\n",
       "├── Sample\n",
       "│   └── Phases\n",
       "│       └── 1\n",
       "│           ├── atom_coordinates\n",
       "│           │   └── 1\n",
       "│           │       ├── atom = \n",
       "│           │       ├── coordinates = array([0., 0., 0.])\n",
       "│           │       ├── debye_waller_factor = 0.0\n",
       "│           │       └── site_occupation = 0.0\n",
       "│           ├── formula = \n",
       "│           ├── info = \n",
       "│           ├── lattice_constants = array([0., 0., 0., 0., 0., 0.])\n",
       "│           ├── laue_group = \n",
       "│           ├── material_name = Ni\n",
       "│           ├── point_group = \n",
       "│           ├── setting = 0\n",
       "│           ├── source = \n",
       "│           ├── space_group = 0\n",
       "│           └── symmetry = 0\n",
       "└── Signal\n",
       "    ├── binned = False\n",
       "    └── signal_type = EBSD"
      ]
     },
     "execution_count": 32,
     "metadata": {},
     "output_type": "execute_result"
    }
   ],
   "source": [
    "s.metadata"
   ]
  },
  {
   "cell_type": "markdown",
   "metadata": {},
   "source": [
    "The number of patterns in horizontal and vertical direction, pattern size in\n",
    "pixels, scan step size and detector pixel size is stored in the `axes_manager`\n",
    "attribute:"
   ]
  },
  {
   "cell_type": "code",
   "execution_count": 12,
   "metadata": {},
   "outputs": [
    {
     "data": {
      "text/html": [
       "<style>\n",
       "table, th, td {\n",
       "\tborder: 1px solid black;\n",
       "\tborder-collapse: collapse;\n",
       "}\n",
       "th, td {\n",
       "\tpadding: 5px;\n",
       "}\n",
       "</style>\n",
       "<p><b>< Axes manager, axes: (3, 3|60, 60) ></b></p>\n",
       "<table style='width:100%'>\n",
       "\n",
       "<tr> \n",
       "<th>Navigation axis name</th> \n",
       "<th>size</th> \n",
       "<th>index</th> \n",
       "<th>offset</th> \n",
       "<th>scale</th> \n",
       "<th>units</th> </tr>\n",
       "<tr> \n",
       "<td>x</td> \n",
       "<td>3</td> \n",
       "<td>0</td> \n",
       "<td>0.0</td> \n",
       "<td>1.5</td> \n",
       "<td>um</td> </tr>\n",
       "<tr> \n",
       "<td>y</td> \n",
       "<td>3</td> \n",
       "<td>0</td> \n",
       "<td>0.0</td> \n",
       "<td>1.5</td> \n",
       "<td>um</td> </tr></table>\n",
       "<table style='width:100%'>\n",
       "\n",
       "<tr> \n",
       "<th>Signal axis name</th> \n",
       "<th>size</th> \n",
       "<th>offset</th> \n",
       "<th>scale</th> \n",
       "<th>units</th> </tr>\n",
       "<tr> \n",
       "<td>dx</td> \n",
       "<td>60</td> \n",
       "<td>0.0</td> \n",
       "<td>1.0</td> \n",
       "<td>um</td> </tr>\n",
       "<tr> \n",
       "<td>dy</td> \n",
       "<td>60</td> \n",
       "<td>0.0</td> \n",
       "<td>1.0</td> \n",
       "<td>um</td> </tr></table>\n"
      ],
      "text/plain": [
       "<Axes manager, axes: (3, 3|60, 60)>\n",
       "            Name |   size |  index |  offset |   scale |  units \n",
       "================ | ====== | ====== | ======= | ======= | ====== \n",
       "               x |      3 |      0 |       0 |     1.5 |     um \n",
       "               y |      3 |      0 |       0 |     1.5 |     um \n",
       "---------------- | ------ | ------ | ------- | ------- | ------ \n",
       "              dx |     60 |        |       0 |       1 |     um \n",
       "              dy |     60 |        |       0 |       1 |     um "
      ]
     },
     "execution_count": 12,
     "metadata": {},
     "output_type": "execute_result"
    }
   ],
   "source": [
    "s.axes_manager"
   ]
  },
  {
   "cell_type": "markdown",
   "metadata": {},
   "source": [
    "This information can be modified directly, and information in `metadata` and\n",
    "`axes_manager` can also be modified by the\n",
    "[EBSD](reference.rst#kikuchipy.signals.EBSD) class methods\n",
    "[set_experimental_parameters()](reference.rst#kikuchipy.signals.EBSD.set_experimental_parameters),\n",
    "[set_phase_parameters()](reference.rst#kikuchipy.signals.EBSD.set_phase_parameters),\n",
    "[set_scan_calibration()](reference.rst#kikuchipy.signals.EBSD.set_scan_calibration) and\n",
    "[set_detector_calibration()](reference.rst#kikuchipy.signals.EBSD.set_detector_calibration),\n",
    "or the [EBSDMasterPattern](reference.rst#kikuchipy.signals.EBSDMasterPattern)\n",
    "class methods [set_simulation_parameters()](reference.rst#kikuchipy.signals.EBSDMasterPattern.set_simulation_parameters) or\n",
    "[set_phase_parameters()](reference.rst#kikuchipy.signals.EBSDMasterPattern.set_phase_parameters).\n",
    "For example, to set or change the accelerating voltage, horizontal pattern\n",
    "centre coordinate and static background pattern (stored as a\n",
    "`numpy.ndarray`:"
   ]
  },
  {
   "cell_type": "code",
   "execution_count": 33,
   "metadata": {},
   "outputs": [],
   "source": [
    "s.set_experimental_parameters(\n",
    "    beam_energy=15,\n",
    "    xpc=0.5073,\n",
    "    static_background=plt.imread(\n",
    "        datadir + \"nordif/Background acquisition pattern.bmp\"\n",
    "    )\n",
    ")"
   ]
  },
  {
   "cell_type": "markdown",
   "metadata": {},
   "source": [
    "In addition to the HyperSpy provided `metadata`, `original_metadata` and\n",
    "`axes_manager` properties, kikuchipy tries to read a [CrystalMap](https://orix.readthedocs.io/en/stable/reference.html#crystalmap) object with indexing results into a\n",
    "`xmap` property and an\n",
    "[EBSDDetector](reference.rst#kikuchipy.detectors.ebsd_detector.EBSDDetector)\n",
    "object into a `detector` property:"
   ]
  },
  {
   "cell_type": "code",
   "execution_count": 36,
   "metadata": {},
   "outputs": [],
   "source": [
    "s.xmap  # This is empty for this signal"
   ]
  },
  {
   "cell_type": "code",
   "execution_count": 35,
   "metadata": {},
   "outputs": [
    {
     "data": {
      "text/plain": [
       "EBSDDetector (60, 60), px_size 1.0 um, binning 1, tilt 0, pc (0.5, 0.5, 0.5)"
      ]
     },
     "execution_count": 35,
     "metadata": {},
     "output_type": "execute_result"
    }
   ],
   "source": [
    "s.detector"
   ]
  },
  {
   "cell_type": "markdown",
   "metadata": {},
   "source": [
    "### From a NumPy array\n",
    "\n",
    "An `EBSD` or `EBSDMasterPattern` signal can also be created directly from a\n",
    "`numpy.ndarray`. To create a data set of (60 x 60) pixel patterns in a\n",
    "(10 x 20) grid, i.e. 10 and 20 patterns in the horizontal and vertical scan\n",
    "directions respectively, of random intensities:"
   ]
  },
  {
   "cell_type": "code",
   "execution_count": 40,
   "metadata": {},
   "outputs": [
    {
     "data": {
      "text/plain": [
       "<EBSD, title: , dimensions: (10, 20|60, 60)>"
      ]
     },
     "execution_count": 40,
     "metadata": {},
     "output_type": "execute_result"
    }
   ],
   "source": [
    "s_np = kp.signals.EBSD(np.random.random((20, 10, 60, 60)))\n",
    "s_np"
   ]
  },
  {
   "cell_type": "markdown",
   "metadata": {},
   "source": [
    "### From a Dask array\n",
    "\n",
    "When processing large data sets, it is useful to load data lazily with the\n",
    "Dask library. This can be done upon reading patterns [from a file](#from-a-file)\n",
    "by setting `lazy=True` when using the `load()` function, or directly from a\n",
    "`dask.array.Array`:"
   ]
  },
  {
   "cell_type": "code",
   "execution_count": 43,
   "metadata": {},
   "outputs": [
    {
     "name": "stdout",
     "output_type": "stream",
     "text": [
      "<LazyEBSD, title: , dimensions: (10, 20|60, 60)>\n"
     ]
    },
    {
     "data": {
      "text/html": [
       "<table>\n",
       "<tr>\n",
       "<td>\n",
       "<table>\n",
       "  <thead>\n",
       "    <tr><td> </td><th> Array </th><th> Chunk </th></tr>\n",
       "  </thead>\n",
       "  <tbody>\n",
       "    <tr><th> Bytes </th><td> 5.76 MB </td> <td> 576.00 kB </td></tr>\n",
       "    <tr><th> Shape </th><td> (20, 10, 60, 60) </td> <td> (2, 10, 60, 60) </td></tr>\n",
       "    <tr><th> Count </th><td> 10 Tasks </td><td> 10 Chunks </td></tr>\n",
       "    <tr><th> Type </th><td> float64 </td><td> numpy.ndarray </td></tr>\n",
       "  </tbody>\n",
       "</table>\n",
       "</td>\n",
       "<td>\n",
       "<svg width=\"420\" height=\"194\" style=\"stroke:rgb(0,0,0);stroke-width:1\" >\n",
       "\n",
       "  <!-- Horizontal lines -->\n",
       "  <line x1=\"0\" y1=\"0\" x2=\"43\" y2=\"0\" style=\"stroke-width:2\" />\n",
       "  <line x1=\"0\" y1=\"28\" x2=\"43\" y2=\"28\" style=\"stroke-width:2\" />\n",
       "\n",
       "  <!-- Vertical lines -->\n",
       "  <line x1=\"0\" y1=\"0\" x2=\"0\" y2=\"28\" style=\"stroke-width:2\" />\n",
       "  <line x1=\"4\" y1=\"0\" x2=\"4\" y2=\"28\" />\n",
       "  <line x1=\"8\" y1=\"0\" x2=\"8\" y2=\"28\" />\n",
       "  <line x1=\"13\" y1=\"0\" x2=\"13\" y2=\"28\" />\n",
       "  <line x1=\"17\" y1=\"0\" x2=\"17\" y2=\"28\" />\n",
       "  <line x1=\"21\" y1=\"0\" x2=\"21\" y2=\"28\" />\n",
       "  <line x1=\"26\" y1=\"0\" x2=\"26\" y2=\"28\" />\n",
       "  <line x1=\"30\" y1=\"0\" x2=\"30\" y2=\"28\" />\n",
       "  <line x1=\"35\" y1=\"0\" x2=\"35\" y2=\"28\" />\n",
       "  <line x1=\"39\" y1=\"0\" x2=\"39\" y2=\"28\" />\n",
       "  <line x1=\"43\" y1=\"0\" x2=\"43\" y2=\"28\" style=\"stroke-width:2\" />\n",
       "\n",
       "  <!-- Colored Rectangle -->\n",
       "  <polygon points=\"0.000000,0.000000 43.885835,0.000000 43.885835,28.022938 0.000000,28.022938\" style=\"fill:#ECB172A0;stroke-width:0\"/>\n",
       "\n",
       "  <!-- Text -->\n",
       "  <text x=\"21.942917\" y=\"48.022938\" font-size=\"1.0rem\" font-weight=\"100\" text-anchor=\"middle\" >20</text>\n",
       "  <text x=\"63.885835\" y=\"14.011469\" font-size=\"1.0rem\" font-weight=\"100\" text-anchor=\"middle\" transform=\"rotate(0,63.885835,14.011469)\">1</text>\n",
       "\n",
       "\n",
       "  <!-- Horizontal lines -->\n",
       "  <line x1=\"113\" y1=\"0\" x2=\"137\" y2=\"24\" style=\"stroke-width:2\" />\n",
       "  <line x1=\"113\" y1=\"120\" x2=\"137\" y2=\"144\" style=\"stroke-width:2\" />\n",
       "\n",
       "  <!-- Vertical lines -->\n",
       "  <line x1=\"113\" y1=\"0\" x2=\"113\" y2=\"120\" style=\"stroke-width:2\" />\n",
       "  <line x1=\"137\" y1=\"24\" x2=\"137\" y2=\"144\" style=\"stroke-width:2\" />\n",
       "\n",
       "  <!-- Colored Rectangle -->\n",
       "  <polygon points=\"113.000000,0.000000 137.237547,24.237547 137.237547,144.237547 113.000000,120.000000\" style=\"fill:#ECB172A0;stroke-width:0\"/>\n",
       "\n",
       "  <!-- Horizontal lines -->\n",
       "  <line x1=\"113\" y1=\"0\" x2=\"233\" y2=\"0\" style=\"stroke-width:2\" />\n",
       "  <line x1=\"137\" y1=\"24\" x2=\"257\" y2=\"24\" style=\"stroke-width:2\" />\n",
       "\n",
       "  <!-- Vertical lines -->\n",
       "  <line x1=\"113\" y1=\"0\" x2=\"137\" y2=\"24\" style=\"stroke-width:2\" />\n",
       "  <line x1=\"233\" y1=\"0\" x2=\"257\" y2=\"24\" style=\"stroke-width:2\" />\n",
       "\n",
       "  <!-- Colored Rectangle -->\n",
       "  <polygon points=\"113.000000,0.000000 233.000000,0.000000 257.237547,24.237547 137.237547,24.237547\" style=\"fill:#ECB172A0;stroke-width:0\"/>\n",
       "\n",
       "  <!-- Horizontal lines -->\n",
       "  <line x1=\"137\" y1=\"24\" x2=\"257\" y2=\"24\" style=\"stroke-width:2\" />\n",
       "  <line x1=\"137\" y1=\"144\" x2=\"257\" y2=\"144\" style=\"stroke-width:2\" />\n",
       "\n",
       "  <!-- Vertical lines -->\n",
       "  <line x1=\"137\" y1=\"24\" x2=\"137\" y2=\"144\" style=\"stroke-width:2\" />\n",
       "  <line x1=\"257\" y1=\"24\" x2=\"257\" y2=\"144\" style=\"stroke-width:2\" />\n",
       "\n",
       "  <!-- Colored Rectangle -->\n",
       "  <polygon points=\"137.237547,24.237547 257.237547,24.237547 257.237547,144.237547 137.237547,144.237547\" style=\"fill:#ECB172A0;stroke-width:0\"/>\n",
       "\n",
       "  <!-- Text -->\n",
       "  <text x=\"197.237547\" y=\"164.237547\" font-size=\"1.0rem\" font-weight=\"100\" text-anchor=\"middle\" >60</text>\n",
       "  <text x=\"277.237547\" y=\"84.237547\" font-size=\"1.0rem\" font-weight=\"100\" text-anchor=\"middle\" transform=\"rotate(0,277.237547,84.237547)\">60</text>\n",
       "  <text x=\"115.118773\" y=\"152.118773\" font-size=\"1.0rem\" font-weight=\"100\" text-anchor=\"middle\" transform=\"rotate(45,115.118773,152.118773)\">10</text>\n",
       "</svg>\n",
       "</td>\n",
       "</tr>\n",
       "</table>"
      ],
      "text/plain": [
       "dask.array<random_sample, shape=(20, 10, 60, 60), dtype=float64, chunksize=(2, 10, 60, 60), chunktype=numpy.ndarray>"
      ]
     },
     "execution_count": 43,
     "metadata": {},
     "output_type": "execute_result"
    }
   ],
   "source": [
    "s_da = kp.signals.LazyEBSD(\n",
    "    da.random.random((20, 10, 60, 60), chunks=(2, 10, 60, 60))\n",
    ")\n",
    "print(s_da)\n",
    "s_da.data"
   ]
  },
  {
   "cell_type": "markdown",
   "metadata": {},
   "source": [
    "### From a HyperSpy signal\n",
    "\n",
    "HyperSpy provides the method\n",
    "[set_signal_type()](http://hyperspy.org/hyperspy-doc/current/api/hyperspy.signal.html#hyperspy.signal.BaseSignal.set_signal_type)\n",
    "to change between [BaseSignal](http://hyperspy.org/hyperspy-doc/current/api/hyperspy.signal.html#hyperspy.signal.BaseSignal) subclasses, of which\n",
    "`EBSD`, `EBSDMasterPattern` and\n",
    "[VirtualBSEImage](reference.rst#kikuchipy.signals.VirtualBSEImage) are three. To\n",
    "get one of these objects from a [HyperSpy Signal2D](http://hyperspy.org/hyperspy-doc/current/api/hyperspy._signals.signal2d.html?highlight=signal2d#hyperspy._signals.signal2d.Signal2D):"
   ]
  },
  {
   "cell_type": "code",
   "execution_count": 25,
   "metadata": {},
   "outputs": [
    {
     "data": {
      "text/plain": [
       "<Signal2D, title: , dimensions: (10, 20|60, 60)>"
      ]
     },
     "execution_count": 25,
     "metadata": {},
     "output_type": "execute_result"
    }
   ],
   "source": [
    "s_hs = hs.signals.Signal2D(np.random.random((20, 10, 60, 60)))\n",
    "s_hs"
   ]
  },
  {
   "cell_type": "code",
   "execution_count": 27,
   "metadata": {},
   "outputs": [
    {
     "data": {
      "text/plain": [
       "<EBSD, title: , dimensions: (10, 20|60, 60)>"
      ]
     },
     "execution_count": 27,
     "metadata": {},
     "output_type": "execute_result"
    }
   ],
   "source": [
    "s_hs.set_signal_type(\"EBSD\")\n",
    "s_hs"
   ]
  },
  {
   "cell_type": "code",
   "execution_count": 29,
   "metadata": {},
   "outputs": [
    {
     "data": {
      "text/plain": [
       "<VirtualBSEImage, title: , dimensions: (10, 20|60, 60)>"
      ]
     },
     "execution_count": 29,
     "metadata": {},
     "output_type": "execute_result"
    }
   ],
   "source": [
    "s_hs.set_signal_type(\"VirtualBSEImage\")\n",
    "s_hs"
   ]
  },
  {
   "cell_type": "code",
   "execution_count": 35,
   "metadata": {},
   "outputs": [
    {
     "data": {
      "text/plain": [
       "<EBSDMasterPattern, title: , dimensions: (10, 20|60, 60)>"
      ]
     },
     "execution_count": 35,
     "metadata": {},
     "output_type": "execute_result"
    }
   ],
   "source": [
    "s_hs.set_signal_type(\"EBSDMasterPattern\")\n",
    "s_hs"
   ]
  },
  {
   "cell_type": "markdown",
   "metadata": {},
   "source": [
    "---\n",
    "## Save patterns\n",
    "\n",
    "To save experimental EBSD patterns to file use the\n",
    "[save()](reference.rst#kikuchipy.signals.EBSD.save) method. For example, to save\n",
    "an `EBSD` signal in an HDF5 file, with file name `patterns.h5`, in our default\n",
    "[h5ebsd format](#h5ebsd):"
   ]
  },
  {
   "cell_type": "code",
   "execution_count": 30,
   "metadata": {},
   "outputs": [],
   "source": [
    "s.save(\"patterns\")"
   ]
  },
  {
   "cell_type": "markdown",
   "metadata": {},
   "source": [
    "<div class=\"alert alert-danger\">\n",
    "    \n",
    "Danger\n",
    "\n",
    "If we want to overwrite an existing file:\n",
    "\n",
    "```python\n",
    "s.save(\"patterns.h5\", overwrite=True)\n",
    "```\n",
    "\n",
    "</div>"
   ]
  },
  {
   "cell_type": "markdown",
   "metadata": {},
   "source": [
    "If we want to save patterns in NORDIF's binary .dat format instead:"
   ]
  },
  {
   "cell_type": "code",
   "execution_count": 31,
   "metadata": {},
   "outputs": [],
   "source": [
    "s.save(\"patterns.dat\")"
   ]
  },
  {
   "cell_type": "markdown",
   "metadata": {},
   "source": [
    "To save an `EBSDMasterPattern` to an HDF5 file, we use the [save method inherited from HyperSpy](http://hyperspy.org/hyperspy-doc/current/api/hyperspy.signal.html#hyperspy.signal.BaseSignal.save)\n",
    "to write to [their HDF5 specification](http://hyperspy.org/hyperspy-doc/current/user_guide/io.html#hspy-hyperspy-s-hdf5-specification):"
   ]
  },
  {
   "cell_type": "code",
   "execution_count": 36,
   "metadata": {},
   "outputs": [
    {
     "name": "stdin",
     "output_type": "stream",
     "text": [
      "Overwrite 'master_pattern.hspy' (y/n)?\n",
      " y\n"
     ]
    },
    {
     "data": {
      "text/plain": [
       "<EBSDMasterPattern, title: , dimensions: (10, 20|60, 60)>"
      ]
     },
     "execution_count": 36,
     "metadata": {},
     "output_type": "execute_result"
    }
   ],
   "source": [
    "s_hs.save(\"master_pattern.hspy\")\n",
    "s_hs"
   ]
  },
  {
   "cell_type": "markdown",
   "metadata": {},
   "source": [
    "These master patterns can then be read into an `EBSDMasterPattern` signal again\n",
    "via HyperSpy's\n",
    "[load()](http://hyperspy.org/hyperspy-doc/current/api/hyperspy.io.html#hyperspy.io.load):"
   ]
  },
  {
   "cell_type": "code",
   "execution_count": 38,
   "metadata": {},
   "outputs": [
    {
     "data": {
      "text/plain": [
       "<EBSDMasterPattern, title: , dimensions: (10, 20|60, 60)>"
      ]
     },
     "execution_count": 38,
     "metadata": {},
     "output_type": "execute_result"
    }
   ],
   "source": [
    "s_mp2 = hs.load(\"master_pattern.hspy\", signal_type=\"EBSDMasterPattern\")\n",
    "s_mp2"
   ]
  },
  {
   "cell_type": "markdown",
   "metadata": {},
   "source": [
    "<div class=\"alert alert-info\">\n",
    "\n",
    "Note\n",
    "\n",
    "To save results from statistical decomposition (machine learning) of\n",
    "patterns to file see the section\n",
    "[Saving and loading results](http://hyperspy.org/hyperspy-doc/current/user_guide/mva.html#saving-and-loading-results) in HyperSpy's user guide. Note that the file extension\n",
    "`.hspy` must be used upon saving, `s.save('patterns.hspy')`, as the\n",
    "default extension in kikuchipy, `.h5`, yields a kikuchipy h5ebsd file. The\n",
    "saved patterns can then be reloaded using HyperSpy's `load()` function and\n",
    "passing the `signal_type=\"EBSD\"` parameter\n",
    "[as explained above](#From-a-HyperSpy-signal).\n",
    "\n",
    "</div>"
   ]
  },
  {
   "cell_type": "markdown",
   "metadata": {},
   "source": [
    "---\n",
    "## Supported EBSD formats\n",
    "\n",
    "Currently, kikuchipy has readers and writers for the following formats:\n",
    "\n",
    " Format                           Read  Write \n",
    "+=================================+======+=======+    +---------------------------------+------+-------+\n",
    "    | Format                          | Read | Write |\n",
    "    +=================================+======+=======+\n",
    "    | Bruker Nano h5ebsd              | Yes  | No    |\n",
    "    +---------------------------------+------+-------+\n",
    "    | EDAX TSL h5ebsd                 | Yes  | No    |\n",
    "    +---------------------------------+------+-------+\n",
    "    | kikuchipy h5ebsd                | Yes  | Yes   |\n",
    "    +---------------------------------+------+-------+\n",
    "    | NORDIF binary                   | Yes  | Yes   |\n",
    "    +---------------------------------+------+-------+\n",
    "    | EMsoft simulated EBSD HDF5      | Yes  | No    |\n",
    "    +---------------------------------+------+-------+\n",
    "    | EMsoft EBSD master pattern HDF5 | Yes  | No    |\n",
    "    +---------------------------------+------+-------+\n",
    "| Bruker Nano h5ebsd              | Yes  | No    |\n",
    "+---------------------------------+------+-------+\n",
    "| EDAX TSL h5ebsd                 | Yes  | No    |\n",
    "+---------------------------------+------+-------+\n",
    "| kikuchipy h5ebsd                | Yes  | Yes   |\n",
    "+---------------------------------+------+-------+\n",
    "| NORDIF binary                   | Yes  | Yes   |\n",
    "+---------------------------------+------+-------+\n",
    "| EMsoft simulated EBSD HDF5      | Yes  | No    |\n",
    "+---------------------------------+------+-------+\n",
    "| EMsoft EBSD master pattern HDF5 | Yes  | No    |\n",
    "+---------------------------------+------+-------+"
   ]
  }
 ],
 "metadata": {
  "kernelspec": {
   "display_name": "Python 3",
   "language": "python",
   "name": "python3"
  },
  "language_info": {
   "codemirror_mode": {
    "name": "ipython",
    "version": 3
   },
   "file_extension": ".py",
   "mimetype": "text/x-python",
   "name": "python",
   "nbconvert_exporter": "python",
   "pygments_lexer": "ipython3",
   "version": "3.8.5"
  }
 },
 "nbformat": 4,
 "nbformat_minor": 4
}

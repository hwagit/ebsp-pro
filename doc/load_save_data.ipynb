{
 "cells": [
  {
   "cell_type": "markdown",
   "metadata": {
    "nbsphinx": "hidden"
   },
   "source": [
    "This notebook is part of the `kikuchipy` documentation https://kikuchipy.org.\n",
    "Links to the documentation won't work from the notebook."
   ]
  },
  {
   "cell_type": "markdown",
   "metadata": {},
   "source": [
    "# Load and save data\n",
    "\n",
    "## Load patterns\n",
    "\n",
    "### From a file\n",
    "\n",
    "kikuchipy can read and write experimental EBSD patterns and EBSD master patterns\n",
    "from/to multiple formats (see [supported formats](#Supported-EBSD-formats). To\n",
    "load patterns from file use the [load()](reference.rst#kikuchipy.io._io.load)\n",
    "function. Let's import the necessary libraries and read the Nickel EBSD test\n",
    "data set directly from file (not via\n",
    "[kikuchipy.data.nickel_ebsd_small()](reference.rst#kikuchipy.data.nickel_ebsd_small)):"
   ]
  },
  {
   "cell_type": "code",
   "execution_count": 1,
   "metadata": {},
   "outputs": [
    {
     "data": {
      "text/plain": [
       "<EBSD, title: Pattern, dimensions: (3, 3|60, 60)>"
      ]
     },
     "execution_count": 1,
     "metadata": {},
     "output_type": "execute_result"
    }
   ],
   "source": [
    "# exchange inline for qt5 for interactive plotting from the pyqt package\n",
    "%matplotlib inline\n",
    "\n",
    "import os\n",
    "import dask.array as da\n",
    "import hyperspy.api as hs\n",
    "import kikuchipy as kp\n",
    "import numpy as np\n",
    "import matplotlib.pyplot as plt\n",
    "\n",
    "\n",
    "datadir = \"../kikuchipy/data/\"\n",
    "nordif_ebsd = \"nordif/Pattern.dat\"\n",
    "s = kp.load(datadir + nordif_ebsd)\n",
    "s"
   ]
  },
  {
   "cell_type": "markdown",
   "metadata": {},
   "source": [
    "Or, load the spherical projection of the northern hemisphere of an EBSD master\n",
    "pattern for a 20 keV beam energy from a modified version of EMsoft's master\n",
    "pattern file, returned from their `EMEBSDmaster.f90` program:"
   ]
  },
  {
   "cell_type": "code",
   "execution_count": 2,
   "metadata": {},
   "outputs": [
    {
     "data": {
      "text/plain": [
       "<EBSDMasterPattern, title: ni_mc_mp_20kv_uint8_gzip_opts9, dimensions: (|401, 401)>"
      ]
     },
     "execution_count": 2,
     "metadata": {},
     "output_type": "execute_result"
    }
   ],
   "source": [
    "emsoft_master_pattern = (\n",
    " \"emsoft_ebsd_master_pattern/ni_mc_mp_20kv_uint8_gzip_opts9.h5\"\n",
    ")\n",
    "s_mp = kp.load(filename=datadir + emsoft_master_pattern)\n",
    "s_mp"
   ]
  },
  {
   "cell_type": "markdown",
   "metadata": {},
   "source": [
    "Both the spherical and Lambert projections of this master pattern data is\n",
    "available via\n",
    "[kikuchipy.data.nickel_ebsd_master_pattern_small()](reference.rst#kikuchipy.data.nickel_ebsd_master_pattern_small)."
   ]
  },
  {
   "cell_type": "markdown",
   "metadata": {},
   "source": [
    "All file readers support accessing the data without loading it into memory (with\n",
    "the [Dask library](https://docs.dask.org/en/latest)), which can be useful when\n",
    "processing large data sets to avoid memory errors:"
   ]
  },
  {
   "cell_type": "code",
   "execution_count": 3,
   "metadata": {},
   "outputs": [
    {
     "data": {
      "text/plain": [
       "<LazyEBSD, title: Pattern, dimensions: (3, 3|60, 60)>"
      ]
     },
     "execution_count": 3,
     "metadata": {},
     "output_type": "execute_result"
    }
   ],
   "source": [
    "s_lazy = kp.load(datadir + nordif_ebsd, lazy=True)\n",
    "s_lazy"
   ]
  },
  {
   "cell_type": "markdown",
   "metadata": {},
   "source": [
    "Parts or all of the data can be read into memory by calling\n",
    "[compute()](http://hyperspy.org/hyperspy-doc/current/api/hyperspy._signals.lazy.html#hyperspy._signals.lazy.LazySignal.compute):"
   ]
  },
  {
   "cell_type": "code",
   "execution_count": 4,
   "metadata": {},
   "outputs": [
    {
     "name": "stdout",
     "output_type": "stream",
     "text": [
      "[########################################] | 100% Completed |  0.1s\n"
     ]
    },
    {
     "data": {
      "text/plain": [
       "<EBSD, title: Pattern, dimensions: (2, 3|60, 60)>"
      ]
     },
     "execution_count": 4,
     "metadata": {},
     "output_type": "execute_result"
    }
   ],
   "source": [
    "s_lazy_copy = s_lazy.inav[:2, :].deepcopy()\n",
    "s_lazy_copy.compute()\n",
    "s_lazy_copy"
   ]
  },
  {
   "cell_type": "code",
   "execution_count": 5,
   "metadata": {},
   "outputs": [
    {
     "name": "stdout",
     "output_type": "stream",
     "text": [
      "[########################################] | 100% Completed |  0.1s\n"
     ]
    },
    {
     "data": {
      "text/plain": [
       "<EBSD, title: Pattern, dimensions: (3, 3|60, 60)>"
      ]
     },
     "execution_count": 5,
     "metadata": {},
     "output_type": "execute_result"
    }
   ],
   "source": [
    "s_lazy.compute()\n",
    "s_lazy"
   ]
  },
  {
   "cell_type": "markdown",
   "metadata": {},
   "source": [
    "<div class=\"alert alert-info\">\n",
    "\n",
    "Note\n",
    "\n",
    "When lazily loaded EBSD patterns are processed, they are processed chunk by\n",
    "chunk, which in many cases leads to longer processing times, so processing lazy\n",
    "data sets should be done with some care. See the relevant\n",
    "[HyperSpy user guide](http://hyperspy.org/hyperspy-doc/current/user_guide/big_data.html)\n",
    "for information on how to do this.\n",
    "\n",
    "</div>"
   ]
  },
  {
   "cell_type": "markdown",
   "metadata": {},
   "source": [
    "Visualization of data is done by navigating navigation space, showing the signal\n",
    "in each navigation point:"
   ]
  },
  {
   "cell_type": "code",
   "execution_count": 6,
   "metadata": {},
   "outputs": [
    {
     "data": {
      "image/png": "[encoded data removed]",
      "text/plain": [
       "<Figure size 432x392.727 with 2 Axes>"
      ]
     },
     "metadata": {
      "needs_background": "light"
     },
     "output_type": "display_data"
    },
    {
     "data": {
      "image/png": "[encoded data removed]",
      "text/plain": [
       "<Figure size 432x392.727 with 2 Axes>"
      ]
     },
     "metadata": {
      "needs_background": "light"
     },
     "output_type": "display_data"
    }
   ],
   "source": [
    "s.plot()"
   ]
  },
  {
   "cell_type": "markdown",
   "metadata": {},
   "source": [
    "Upon loading, kikuchipy tries to read all scan information from the file and\n",
    "stores everything it can read in the `original_metadata` attribute:"
   ]
  },
  {
   "cell_type": "code",
   "execution_count": 7,
   "metadata": {},
   "outputs": [],
   "source": [
    "# s.original_metadata  # Long output"
   ]
  },
  {
   "cell_type": "markdown",
   "metadata": {},
   "source": [
    "Also, some information may be stored in a standard location in the `metadata`\n",
    "attribute where it can be used by EBSD class methods:"
   ]
  },
  {
   "cell_type": "code",
   "execution_count": 8,
   "metadata": {},
   "outputs": [
    {
     "data": {
      "text/html": [
       "<ul style=\"margin: 0px; list-style-position: outside;\">\n",
       "                    <details open>\n",
       "                    <summary style=\"display: list-item;\">\n",
       "                    <li style=\"display: inline;\">\n",
       "                    Acquisition_instrument\n",
       "                    </li></summary>\n",
       "                    <ul style=\"margin: 0px; list-style-position: outside;\">\n",
       "                    <details closed>\n",
       "                    <summary style=\"display: list-item;\">\n",
       "                    <li style=\"display: inline;\">\n",
       "                    SEM\n",
       "                    </li></summary>\n",
       "                    <ul style=\"margin: 0px; list-style-position: outside;\">\n",
       "                    <details closed>\n",
       "                    <summary style=\"display: list-item;\">\n",
       "                    <li style=\"display: inline;\">\n",
       "                    Detector\n",
       "                    </li></summary>\n",
       "                    <ul style=\"margin: 0px; list-style-position: outside;\">\n",
       "                    <details closed>\n",
       "                    <summary style=\"display: list-item;\">\n",
       "                    <li style=\"display: inline;\">\n",
       "                    EBSD\n",
       "                    </li></summary>\n",
       "                    \n",
       "    <ul style=\"margin: 0px; list-style-position: outside;\">\n",
       "    <li style='margin-left:1em; padding-left: 0.5em'>azimuth_angle = 0.0</li></ul>\n",
       "    \n",
       "    <ul style=\"margin: 0px; list-style-position: outside;\">\n",
       "    <li style='margin-left:1em; padding-left: 0.5em'>binning = 1</li></ul>\n",
       "    \n",
       "    <ul style=\"margin: 0px; list-style-position: outside;\">\n",
       "    <li style='margin-left:1em; padding-left: 0.5em'>detector = NORDIF UF1100</li></ul>\n",
       "    \n",
       "    <ul style=\"margin: 0px; list-style-position: outside;\">\n",
       "    <li style='margin-left:1em; padding-left: 0.5em'>elevation_angle = 0.0</li></ul>\n",
       "    \n",
       "    <ul style=\"margin: 0px; list-style-position: outside;\">\n",
       "    <li style='margin-left:1em; padding-left: 0.5em'>exposure_time = 0.0035</li></ul>\n",
       "    \n",
       "    <ul style=\"margin: 0px; list-style-position: outside;\">\n",
       "    <li style='margin-left:1em; padding-left: 0.5em'>frame_number = -1</li></ul>\n",
       "    \n",
       "    <ul style=\"margin: 0px; list-style-position: outside;\">\n",
       "    <li style='margin-left:1em; padding-left: 0.5em'>frame_rate = 202</li></ul>\n",
       "    \n",
       "    <ul style=\"margin: 0px; list-style-position: outside;\">\n",
       "    <li style='margin-left:1em; padding-left: 0.5em'>gain = 0.0</li></ul>\n",
       "    \n",
       "    <ul style=\"margin: 0px; list-style-position: outside;\">\n",
       "    <li style='margin-left:1em; padding-left: 0.5em'>grid_type = square</li></ul>\n",
       "    \n",
       "    <ul style=\"margin: 0px; list-style-position: outside;\">\n",
       "    <li style='margin-left:1em; padding-left: 0.5em'>manufacturer = NORDIF</li></ul>\n",
       "    \n",
       "    <ul style=\"margin: 0px; list-style-position: outside;\">\n",
       "    <li style='margin-left:1em; padding-left: 0.5em'>sample_tilt = 70.0</li></ul>\n",
       "    \n",
       "    <ul style=\"margin: 0px; list-style-position: outside;\">\n",
       "    <li style='margin-left:1em; padding-left: 0.5em'>scan_time = 148</li></ul>\n",
       "    \n",
       "    <ul style=\"margin: 0px; list-style-position: outside;\">\n",
       "    <li style='margin-left:1em; padding-left: 0.5em'>static_background = array([[84, 87, 90, ..., 27, 29, 30],\n",
       "       [87, 90, 93, ..., 27, 28, 30],\n",
       "   ...  80, 82, ..., 28, 26, 26],\n",
       "       [76, 78, 80, ..., 26, 26, 25]], dtype=uint8)</li></ul>\n",
       "    \n",
       "    <ul style=\"margin: 0px; list-style-position: outside;\">\n",
       "    <li style='margin-left:1em; padding-left: 0.5em'>version = 3.1.2</li></ul>\n",
       "    \n",
       "    <ul style=\"margin: 0px; list-style-position: outside;\">\n",
       "    <li style='margin-left:1em; padding-left: 0.5em'>xpc = -1.0</li></ul>\n",
       "    \n",
       "    <ul style=\"margin: 0px; list-style-position: outside;\">\n",
       "    <li style='margin-left:1em; padding-left: 0.5em'>ypc = -1.0</li></ul>\n",
       "    \n",
       "    <ul style=\"margin: 0px; list-style-position: outside;\">\n",
       "    <li style='margin-left:1em; padding-left: 0.5em'>zpc = -1.0</li></ul>\n",
       "    </details></ul></details></ul>\n",
       "    <ul style=\"margin: 0px; list-style-position: outside;\">\n",
       "    <li style='margin-left:1em; padding-left: 0.5em'>beam_energy = 20.0</li></ul>\n",
       "    \n",
       "    <ul style=\"margin: 0px; list-style-position: outside;\">\n",
       "    <li style='margin-left:1em; padding-left: 0.5em'>magnification = 200</li></ul>\n",
       "    \n",
       "    <ul style=\"margin: 0px; list-style-position: outside;\">\n",
       "    <li style='margin-left:1em; padding-left: 0.5em'>microscope = Hitachi SU-6600</li></ul>\n",
       "    \n",
       "    <ul style=\"margin: 0px; list-style-position: outside;\">\n",
       "    <li style='margin-left:1em; padding-left: 0.5em'>working_distance = 24.7</li></ul>\n",
       "    </details></ul></details></ul><ul style=\"margin: 0px; list-style-position: outside;\">\n",
       "                    <details open>\n",
       "                    <summary style=\"display: list-item;\">\n",
       "                    <li style=\"display: inline;\">\n",
       "                    General\n",
       "                    </li></summary>\n",
       "                    \n",
       "    <ul style=\"margin: 0px; list-style-position: outside;\">\n",
       "    <li style='margin-left:1em; padding-left: 0.5em'>original_filename = ../kikuchipy/data/nordif/Pattern.dat</li></ul>\n",
       "    \n",
       "    <ul style=\"margin: 0px; list-style-position: outside;\">\n",
       "    <li style='margin-left:1em; padding-left: 0.5em'>title = Pattern</li></ul>\n",
       "    </details></ul><ul style=\"margin: 0px; list-style-position: outside;\">\n",
       "                    <details open>\n",
       "                    <summary style=\"display: list-item;\">\n",
       "                    <li style=\"display: inline;\">\n",
       "                    Sample\n",
       "                    </li></summary>\n",
       "                    <ul style=\"margin: 0px; list-style-position: outside;\">\n",
       "                    <details closed>\n",
       "                    <summary style=\"display: list-item;\">\n",
       "                    <li style=\"display: inline;\">\n",
       "                    Phases\n",
       "                    </li></summary>\n",
       "                    <ul style=\"margin: 0px; list-style-position: outside;\">\n",
       "                    <details closed>\n",
       "                    <summary style=\"display: list-item;\">\n",
       "                    <li style=\"display: inline;\">\n",
       "                    1\n",
       "                    </li></summary>\n",
       "                    <ul style=\"margin: 0px; list-style-position: outside;\">\n",
       "                    <details closed>\n",
       "                    <summary style=\"display: list-item;\">\n",
       "                    <li style=\"display: inline;\">\n",
       "                    atom_coordinates\n",
       "                    </li></summary>\n",
       "                    <ul style=\"margin: 0px; list-style-position: outside;\">\n",
       "                    <details closed>\n",
       "                    <summary style=\"display: list-item;\">\n",
       "                    <li style=\"display: inline;\">\n",
       "                    1\n",
       "                    </li></summary>\n",
       "                    \n",
       "    <ul style=\"margin: 0px; list-style-position: outside;\">\n",
       "    <li style='margin-left:1em; padding-left: 0.5em'>atom = </li></ul>\n",
       "    \n",
       "    <ul style=\"margin: 0px; list-style-position: outside;\">\n",
       "    <li style='margin-left:1em; padding-left: 0.5em'>coordinates = array([0., 0., 0.])</li></ul>\n",
       "    \n",
       "    <ul style=\"margin: 0px; list-style-position: outside;\">\n",
       "    <li style='margin-left:1em; padding-left: 0.5em'>debye_waller_factor = 0.0</li></ul>\n",
       "    \n",
       "    <ul style=\"margin: 0px; list-style-position: outside;\">\n",
       "    <li style='margin-left:1em; padding-left: 0.5em'>site_occupation = 0.0</li></ul>\n",
       "    </details></ul></details></ul>\n",
       "    <ul style=\"margin: 0px; list-style-position: outside;\">\n",
       "    <li style='margin-left:1em; padding-left: 0.5em'>formula = </li></ul>\n",
       "    \n",
       "    <ul style=\"margin: 0px; list-style-position: outside;\">\n",
       "    <li style='margin-left:1em; padding-left: 0.5em'>info = </li></ul>\n",
       "    \n",
       "    <ul style=\"margin: 0px; list-style-position: outside;\">\n",
       "    <li style='margin-left:1em; padding-left: 0.5em'>lattice_constants = array([0., 0., 0., 0., 0., 0.])</li></ul>\n",
       "    \n",
       "    <ul style=\"margin: 0px; list-style-position: outside;\">\n",
       "    <li style='margin-left:1em; padding-left: 0.5em'>laue_group = </li></ul>\n",
       "    \n",
       "    <ul style=\"margin: 0px; list-style-position: outside;\">\n",
       "    <li style='margin-left:1em; padding-left: 0.5em'>material_name = Ni</li></ul>\n",
       "    \n",
       "    <ul style=\"margin: 0px; list-style-position: outside;\">\n",
       "    <li style='margin-left:1em; padding-left: 0.5em'>point_group = </li></ul>\n",
       "    \n",
       "    <ul style=\"margin: 0px; list-style-position: outside;\">\n",
       "    <li style='margin-left:1em; padding-left: 0.5em'>setting = 0</li></ul>\n",
       "    \n",
       "    <ul style=\"margin: 0px; list-style-position: outside;\">\n",
       "    <li style='margin-left:1em; padding-left: 0.5em'>source = </li></ul>\n",
       "    \n",
       "    <ul style=\"margin: 0px; list-style-position: outside;\">\n",
       "    <li style='margin-left:1em; padding-left: 0.5em'>space_group = 0</li></ul>\n",
       "    \n",
       "    <ul style=\"margin: 0px; list-style-position: outside;\">\n",
       "    <li style='margin-left:1em; padding-left: 0.5em'>symmetry = 0</li></ul>\n",
       "    </details></ul></details></ul></details></ul><ul style=\"margin: 0px; list-style-position: outside;\">\n",
       "                    <details open>\n",
       "                    <summary style=\"display: list-item;\">\n",
       "                    <li style=\"display: inline;\">\n",
       "                    Signal\n",
       "                    </li></summary>\n",
       "                    \n",
       "    <ul style=\"margin: 0px; list-style-position: outside;\">\n",
       "    <li style='margin-left:1em; padding-left: 0.5em'>binned = False</li></ul>\n",
       "    \n",
       "    <ul style=\"margin: 0px; list-style-position: outside;\">\n",
       "    <li style='margin-left:1em; padding-left: 0.5em'>signal_type = EBSD</li></ul>\n",
       "    </details></ul>"
      ],
      "text/plain": [
       "├── Acquisition_instrument\n",
       "│   └── SEM\n",
       "│       ├── Detector\n",
       "│       │   └── EBSD\n",
       "│       │       ├── azimuth_angle = 0.0\n",
       "│       │       ├── binning = 1\n",
       "│       │       ├── detector = NORDIF UF1100\n",
       "│       │       ├── elevation_angle = 0.0\n",
       "│       │       ├── exposure_time = 0.0035\n",
       "│       │       ├── frame_number = -1\n",
       "│       │       ├── frame_rate = 202\n",
       "│       │       ├── gain = 0.0\n",
       "│       │       ├── grid_type = square\n",
       "│       │       ├── manufacturer = NORDIF\n",
       "│       │       ├── sample_tilt = 70.0\n",
       "│       │       ├── scan_time = 148\n",
       "│       │       ├── static_background = array([[84, 87, 90, ..., 27, 29, 30],\n",
       "       [87, 90, 93, ..., 27, 28, 30],\n",
       "   ...  80, 82, ..., 28, 26, 26],\n",
       "       [76, 78, 80, ..., 26, 26, 25]], dtype=uint8)\n",
       "│       │       ├── version = 3.1.2\n",
       "│       │       ├── xpc = -1.0\n",
       "│       │       ├── ypc = -1.0\n",
       "│       │       └── zpc = -1.0\n",
       "│       ├── beam_energy = 20.0\n",
       "│       ├── magnification = 200\n",
       "│       ├── microscope = Hitachi SU-6600\n",
       "│       └── working_distance = 24.7\n",
       "├── General\n",
       "│   ├── original_filename = ../kikuchipy/data/nordif/Pattern.dat\n",
       "│   └── title = Pattern\n",
       "├── Sample\n",
       "│   └── Phases\n",
       "│       └── 1\n",
       "│           ├── atom_coordinates\n",
       "│           │   └── 1\n",
       "│           │       ├── atom = \n",
       "│           │       ├── coordinates = array([0., 0., 0.])\n",
       "│           │       ├── debye_waller_factor = 0.0\n",
       "│           │       └── site_occupation = 0.0\n",
       "│           ├── formula = \n",
       "│           ├── info = \n",
       "│           ├── lattice_constants = array([0., 0., 0., 0., 0., 0.])\n",
       "│           ├── laue_group = \n",
       "│           ├── material_name = Ni\n",
       "│           ├── point_group = \n",
       "│           ├── setting = 0\n",
       "│           ├── source = \n",
       "│           ├── space_group = 0\n",
       "│           └── symmetry = 0\n",
       "└── Signal\n",
       "    ├── binned = False\n",
       "    └── signal_type = EBSD"
      ]
     },
     "execution_count": 8,
     "metadata": {},
     "output_type": "execute_result"
    }
   ],
   "source": [
    "s.metadata"
   ]
  },
  {
   "cell_type": "markdown",
   "metadata": {},
   "source": [
    "The number of patterns in horizontal and vertical direction, pattern size in\n",
    "pixels, scan step size and detector pixel size is stored in the `axes_manager`\n",
    "attribute:"
   ]
  },
  {
   "cell_type": "code",
   "execution_count": 9,
   "metadata": {},
   "outputs": [
    {
     "data": {
      "text/html": [
       "<style>\n",
       "table, th, td {\n",
       "\tborder: 1px solid black;\n",
       "\tborder-collapse: collapse;\n",
       "}\n",
       "th, td {\n",
       "\tpadding: 5px;\n",
       "}\n",
       "</style>\n",
       "<p><b>< Axes manager, axes: (3, 3|60, 60) ></b></p>\n",
       "<table style='width:100%'>\n",
       "\n",
       "<tr> \n",
       "<th>Navigation axis name</th> \n",
       "<th>size</th> \n",
       "<th>index</th> \n",
       "<th>offset</th> \n",
       "<th>scale</th> \n",
       "<th>units</th> </tr>\n",
       "<tr> \n",
       "<td>x</td> \n",
       "<td>3</td> \n",
       "<td>0</td> \n",
       "<td>0.0</td> \n",
       "<td>1.5</td> \n",
       "<td>um</td> </tr>\n",
       "<tr> \n",
       "<td>y</td> \n",
       "<td>3</td> \n",
       "<td>0</td> \n",
       "<td>0.0</td> \n",
       "<td>1.5</td> \n",
       "<td>um</td> </tr></table>\n",
       "<table style='width:100%'>\n",
       "\n",
       "<tr> \n",
       "<th>Signal axis name</th> \n",
       "<th>size</th> \n",
       "<th>offset</th> \n",
       "<th>scale</th> \n",
       "<th>units</th> </tr>\n",
       "<tr> \n",
       "<td>dx</td> \n",
       "<td>60</td> \n",
       "<td>0.0</td> \n",
       "<td>1.0</td> \n",
       "<td>um</td> </tr>\n",
       "<tr> \n",
       "<td>dy</td> \n",
       "<td>60</td> \n",
       "<td>0.0</td> \n",
       "<td>1.0</td> \n",
       "<td>um</td> </tr></table>\n"
      ],
      "text/plain": [
       "<Axes manager, axes: (3, 3|60, 60)>\n",
       "            Name |   size |  index |  offset |   scale |  units \n",
       "================ | ====== | ====== | ======= | ======= | ====== \n",
       "               x |      3 |      0 |       0 |     1.5 |     um \n",
       "               y |      3 |      0 |       0 |     1.5 |     um \n",
       "---------------- | ------ | ------ | ------- | ------- | ------ \n",
       "              dx |     60 |        |       0 |       1 |     um \n",
       "              dy |     60 |        |       0 |       1 |     um "
      ]
     },
     "execution_count": 9,
     "metadata": {},
     "output_type": "execute_result"
    }
   ],
   "source": [
    "s.axes_manager"
   ]
  },
  {
   "cell_type": "markdown",
   "metadata": {},
   "source": [
    "This information can be modified directly, and information in `metadata` and\n",
    "`axes_manager` can also be modified by the\n",
    "[EBSD](reference.rst#kikuchipy.signals.EBSD) class methods\n",
    "[set_experimental_parameters()](reference.rst#kikuchipy.signals.EBSD.set_experimental_parameters),\n",
    "[set_phase_parameters()](reference.rst#kikuchipy.signals.EBSD.set_phase_parameters),\n",
    "[set_scan_calibration()](reference.rst#kikuchipy.signals.EBSD.set_scan_calibration) and\n",
    "[set_detector_calibration()](reference.rst#kikuchipy.signals.EBSD.set_detector_calibration).\n",
    "For example, to set or change the accelerating voltage, horizontal pattern\n",
    "centre coordinate and static background pattern (stored as a `numpy.ndarray`):"
   ]
  },
  {
   "cell_type": "code",
   "execution_count": 10,
   "metadata": {},
   "outputs": [],
   "source": [
    "s.set_experimental_parameters(\n",
    "    beam_energy=15,\n",
    "    xpc=0.5073,\n",
    "    static_background=plt.imread(\n",
    "        datadir + \"nordif/Background acquisition pattern.bmp\"\n",
    "    )\n",
    ")"
   ]
  },
  {
   "cell_type": "markdown",
   "metadata": {},
   "source": [
    "In addition to the HyperSpy provided `metadata`, `original_metadata` and\n",
    "`axes_manager` properties, kikuchipy tries to read a [CrystalMap](https://orix.readthedocs.io/en/stable/reference.html#crystalmap) object with indexing results into a\n",
    "`xmap` property and an\n",
    "[EBSDDetector](reference.rst#kikuchipy.detectors.ebsd_detector.EBSDDetector)\n",
    "object into a `detector` property:"
   ]
  },
  {
   "cell_type": "code",
   "execution_count": 11,
   "metadata": {},
   "outputs": [],
   "source": [
    "s.xmap  # This is empty for this signal"
   ]
  },
  {
   "cell_type": "code",
   "execution_count": 12,
   "metadata": {},
   "outputs": [
    {
     "data": {
      "text/plain": [
       "EBSDDetector (60, 60), px_size 1.0 um, binning 1, tilt 0, pc (0.5, 0.5, 0.5)"
      ]
     },
     "execution_count": 12,
     "metadata": {},
     "output_type": "execute_result"
    }
   ],
   "source": [
    "s.detector"
   ]
  },
  {
   "cell_type": "markdown",
   "metadata": {},
   "source": [
    "### From a NumPy array\n",
    "\n",
    "An `EBSD` or `EBSDMasterPattern` signal can also be created directly from a\n",
    "`numpy.ndarray`. To create a data set of (60 x 60) pixel patterns in a\n",
    "(10 x 20) grid, i.e. 10 and 20 patterns in the horizontal and vertical scan\n",
    "directions respectively, of random intensities:"
   ]
  },
  {
   "cell_type": "code",
   "execution_count": 13,
   "metadata": {},
   "outputs": [
    {
     "data": {
      "text/plain": [
       "<EBSD, title: , dimensions: (10, 20|60, 60)>"
      ]
     },
     "execution_count": 13,
     "metadata": {},
     "output_type": "execute_result"
    }
   ],
   "source": [
    "s_np = kp.signals.EBSD(np.random.random((20, 10, 60, 60)))\n",
    "s_np"
   ]
  },
  {
   "cell_type": "markdown",
   "metadata": {},
   "source": [
    "### From a Dask array\n",
    "\n",
    "When processing large data sets, it is useful to load data lazily with the\n",
    "Dask library. This can be done upon reading patterns [from a file](#From-a-file)\n",
    "by setting `lazy=True` when using the `load()` function, or directly from a\n",
    "`dask.array.Array`:"
   ]
  },
  {
   "cell_type": "code",
   "execution_count": 14,
   "metadata": {},
   "outputs": [
    {
     "name": "stdout",
     "output_type": "stream",
     "text": [
      "<LazyEBSD, title: , dimensions: (10, 20|60, 60)>\n"
     ]
    },
    {
     "data": {
      "text/html": [
       "<table>\n",
       "<tr>\n",
       "<td>\n",
       "<table>\n",
       "  <thead>\n",
       "    <tr><td> </td><th> Array </th><th> Chunk </th></tr>\n",
       "  </thead>\n",
       "  <tbody>\n",
       "    <tr><th> Bytes </th><td> 5.76 MB </td> <td> 576.00 kB </td></tr>\n",
       "    <tr><th> Shape </th><td> (20, 10, 60, 60) </td> <td> (2, 10, 60, 60) </td></tr>\n",
       "    <tr><th> Count </th><td> 10 Tasks </td><td> 10 Chunks </td></tr>\n",
       "    <tr><th> Type </th><td> float64 </td><td> numpy.ndarray </td></tr>\n",
       "  </tbody>\n",
       "</table>\n",
       "</td>\n",
       "<td>\n",
       "<svg width=\"420\" height=\"194\" style=\"stroke:rgb(0,0,0);stroke-width:1\" >\n",
       "\n",
       "  <!-- Horizontal lines -->\n",
       "  <line x1=\"0\" y1=\"0\" x2=\"43\" y2=\"0\" style=\"stroke-width:2\" />\n",
       "  <line x1=\"0\" y1=\"28\" x2=\"43\" y2=\"28\" style=\"stroke-width:2\" />\n",
       "\n",
       "  <!-- Vertical lines -->\n",
       "  <line x1=\"0\" y1=\"0\" x2=\"0\" y2=\"28\" style=\"stroke-width:2\" />\n",
       "  <line x1=\"4\" y1=\"0\" x2=\"4\" y2=\"28\" />\n",
       "  <line x1=\"8\" y1=\"0\" x2=\"8\" y2=\"28\" />\n",
       "  <line x1=\"13\" y1=\"0\" x2=\"13\" y2=\"28\" />\n",
       "  <line x1=\"17\" y1=\"0\" x2=\"17\" y2=\"28\" />\n",
       "  <line x1=\"21\" y1=\"0\" x2=\"21\" y2=\"28\" />\n",
       "  <line x1=\"26\" y1=\"0\" x2=\"26\" y2=\"28\" />\n",
       "  <line x1=\"30\" y1=\"0\" x2=\"30\" y2=\"28\" />\n",
       "  <line x1=\"35\" y1=\"0\" x2=\"35\" y2=\"28\" />\n",
       "  <line x1=\"39\" y1=\"0\" x2=\"39\" y2=\"28\" />\n",
       "  <line x1=\"43\" y1=\"0\" x2=\"43\" y2=\"28\" style=\"stroke-width:2\" />\n",
       "\n",
       "  <!-- Colored Rectangle -->\n",
       "  <polygon points=\"0.0,0.0 43.88583450710766,0.0 43.88583450710766,28.02293761910704 0.0,28.02293761910704\" style=\"fill:#ECB172A0;stroke-width:0\"/>\n",
       "\n",
       "  <!-- Text -->\n",
       "  <text x=\"21.942917\" y=\"48.022938\" font-size=\"1.0rem\" font-weight=\"100\" text-anchor=\"middle\" >20</text>\n",
       "  <text x=\"63.885835\" y=\"14.011469\" font-size=\"1.0rem\" font-weight=\"100\" text-anchor=\"middle\" transform=\"rotate(0,63.885835,14.011469)\">1</text>\n",
       "\n",
       "\n",
       "  <!-- Horizontal lines -->\n",
       "  <line x1=\"113\" y1=\"0\" x2=\"137\" y2=\"24\" style=\"stroke-width:2\" />\n",
       "  <line x1=\"113\" y1=\"120\" x2=\"137\" y2=\"144\" style=\"stroke-width:2\" />\n",
       "\n",
       "  <!-- Vertical lines -->\n",
       "  <line x1=\"113\" y1=\"0\" x2=\"113\" y2=\"120\" style=\"stroke-width:2\" />\n",
       "  <line x1=\"137\" y1=\"24\" x2=\"137\" y2=\"144\" style=\"stroke-width:2\" />\n",
       "\n",
       "  <!-- Colored Rectangle -->\n",
       "  <polygon points=\"113.0,0.0 137.23754671845143,24.23754671845142 137.23754671845143,144.23754671845143 113.0,120.0\" style=\"fill:#ECB172A0;stroke-width:0\"/>\n",
       "\n",
       "  <!-- Horizontal lines -->\n",
       "  <line x1=\"113\" y1=\"0\" x2=\"233\" y2=\"0\" style=\"stroke-width:2\" />\n",
       "  <line x1=\"137\" y1=\"24\" x2=\"257\" y2=\"24\" style=\"stroke-width:2\" />\n",
       "\n",
       "  <!-- Vertical lines -->\n",
       "  <line x1=\"113\" y1=\"0\" x2=\"137\" y2=\"24\" style=\"stroke-width:2\" />\n",
       "  <line x1=\"233\" y1=\"0\" x2=\"257\" y2=\"24\" style=\"stroke-width:2\" />\n",
       "\n",
       "  <!-- Colored Rectangle -->\n",
       "  <polygon points=\"113.0,0.0 233.0,0.0 257.2375467184514,24.23754671845142 137.23754671845143,24.23754671845142\" style=\"fill:#ECB172A0;stroke-width:0\"/>\n",
       "\n",
       "  <!-- Horizontal lines -->\n",
       "  <line x1=\"137\" y1=\"24\" x2=\"257\" y2=\"24\" style=\"stroke-width:2\" />\n",
       "  <line x1=\"137\" y1=\"144\" x2=\"257\" y2=\"144\" style=\"stroke-width:2\" />\n",
       "\n",
       "  <!-- Vertical lines -->\n",
       "  <line x1=\"137\" y1=\"24\" x2=\"137\" y2=\"144\" style=\"stroke-width:2\" />\n",
       "  <line x1=\"257\" y1=\"24\" x2=\"257\" y2=\"144\" style=\"stroke-width:2\" />\n",
       "\n",
       "  <!-- Colored Rectangle -->\n",
       "  <polygon points=\"137.23754671845143,24.23754671845142 257.2375467184514,24.23754671845142 257.2375467184514,144.23754671845143 137.23754671845143,144.23754671845143\" style=\"fill:#ECB172A0;stroke-width:0\"/>\n",
       "\n",
       "  <!-- Text -->\n",
       "  <text x=\"197.237547\" y=\"164.237547\" font-size=\"1.0rem\" font-weight=\"100\" text-anchor=\"middle\" >60</text>\n",
       "  <text x=\"277.237547\" y=\"84.237547\" font-size=\"1.0rem\" font-weight=\"100\" text-anchor=\"middle\" transform=\"rotate(0,277.237547,84.237547)\">60</text>\n",
       "  <text x=\"115.118773\" y=\"152.118773\" font-size=\"1.0rem\" font-weight=\"100\" text-anchor=\"middle\" transform=\"rotate(45,115.118773,152.118773)\">10</text>\n",
       "</svg>\n",
       "</td>\n",
       "</tr>\n",
       "</table>"
      ],
      "text/plain": [
       "dask.array<random_sample, shape=(20, 10, 60, 60), dtype=float64, chunksize=(2, 10, 60, 60), chunktype=numpy.ndarray>"
      ]
     },
     "execution_count": 14,
     "metadata": {},
     "output_type": "execute_result"
    }
   ],
   "source": [
    "s_da = kp.signals.LazyEBSD(\n",
    "    da.random.random((20, 10, 60, 60), chunks=(2, 10, 60, 60))\n",
    ")\n",
    "print(s_da)\n",
    "s_da.data"
   ]
  },
  {
   "cell_type": "markdown",
   "metadata": {},
   "source": [
    "### From a HyperSpy signal\n",
    "\n",
    "HyperSpy provides the method\n",
    "[set_signal_type()](http://hyperspy.org/hyperspy-doc/current/api/hyperspy.signal.html#hyperspy.signal.BaseSignal.set_signal_type)\n",
    "to change between [BaseSignal](http://hyperspy.org/hyperspy-doc/current/api/hyperspy.signal.html#hyperspy.signal.BaseSignal) subclasses, of which\n",
    "`EBSD`, `EBSDMasterPattern` and\n",
    "[VirtualBSEImage](reference.rst#kikuchipy.signals.VirtualBSEImage) are three. To\n",
    "get one of these objects from a [HyperSpy Signal2D](http://hyperspy.org/hyperspy-doc/current/api/hyperspy._signals.signal2d.html?highlight=signal2d#hyperspy._signals.signal2d.Signal2D)\n",
    "object:"
   ]
  },
  {
   "cell_type": "code",
   "execution_count": 15,
   "metadata": {},
   "outputs": [
    {
     "data": {
      "text/plain": [
       "<Signal2D, title: , dimensions: (10, 20|60, 60)>"
      ]
     },
     "execution_count": 15,
     "metadata": {},
     "output_type": "execute_result"
    }
   ],
   "source": [
    "s_hs = hs.signals.Signal2D(np.random.random((20, 10, 60, 60)))\n",
    "s_hs"
   ]
  },
  {
   "cell_type": "code",
   "execution_count": 16,
   "metadata": {},
   "outputs": [
    {
     "data": {
      "text/plain": [
       "<EBSD, title: , dimensions: (10, 20|60, 60)>"
      ]
     },
     "execution_count": 16,
     "metadata": {},
     "output_type": "execute_result"
    }
   ],
   "source": [
    "s_hs.set_signal_type(\"EBSD\")\n",
    "s_hs"
   ]
  },
  {
   "cell_type": "code",
   "execution_count": 17,
   "metadata": {},
   "outputs": [
    {
     "data": {
      "text/plain": [
       "<VirtualBSEImage, title: , dimensions: (10, 20|60, 60)>"
      ]
     },
     "execution_count": 17,
     "metadata": {},
     "output_type": "execute_result"
    }
   ],
   "source": [
    "s_hs.set_signal_type(\"VirtualBSEImage\")\n",
    "s_hs"
   ]
  },
  {
   "cell_type": "code",
   "execution_count": 18,
   "metadata": {},
   "outputs": [
    {
     "data": {
      "text/plain": [
       "<EBSDMasterPattern, title: , dimensions: (10, 20|60, 60)>"
      ]
     },
     "execution_count": 18,
     "metadata": {},
     "output_type": "execute_result"
    }
   ],
   "source": [
    "s_hs.set_signal_type(\"EBSDMasterPattern\")\n",
    "s_hs"
   ]
  },
  {
   "cell_type": "markdown",
   "metadata": {},
   "source": [
    "---\n",
    "## Save patterns\n",
    "\n",
    "To save experimental EBSD patterns to file use the\n",
    "[save()](reference.rst#kikuchipy.signals.EBSD.save) method. For example, to save\n",
    "an `EBSD` signal in an HDF5 file, with file name `patterns.h5`, in our default\n",
    "[h5ebsd format](#h5ebsd):"
   ]
  },
  {
   "cell_type": "code",
   "execution_count": 20,
   "metadata": {},
   "outputs": [
    {
     "ename": "FileExistsError",
     "evalue": "[Errno 17] File exists: '../kikuchipy/data/temp/'",
     "output_type": "error",
     "traceback": [
      "\u001b[0;31m---------------------------------------------------------------------------\u001b[0m",
      "\u001b[0;31mFileExistsError\u001b[0m                           Traceback (most recent call last)",
      "\u001b[0;32m<ipython-input-20-9e22fa4f983a>\u001b[0m in \u001b[0;36m<module>\u001b[0;34m\u001b[0m\n\u001b[0;32m----> 1\u001b[0;31m \u001b[0mtempdir\u001b[0m \u001b[0;34m=\u001b[0m \u001b[0mdatadir\u001b[0m \u001b[0;34m+\u001b[0m \u001b[0;34m\"temp/\"\u001b[0m\u001b[0;34m;\u001b[0m \u001b[0mos\u001b[0m\u001b[0;34m.\u001b[0m\u001b[0mmkdir\u001b[0m\u001b[0;34m(\u001b[0m\u001b[0mtempdir\u001b[0m\u001b[0;34m)\u001b[0m\u001b[0;34m\u001b[0m\u001b[0;34m\u001b[0m\u001b[0m\n\u001b[0m\u001b[1;32m      2\u001b[0m \u001b[0ms\u001b[0m\u001b[0;34m.\u001b[0m\u001b[0msave\u001b[0m\u001b[0;34m(\u001b[0m\u001b[0mtempdir\u001b[0m \u001b[0;34m+\u001b[0m \u001b[0;34m\"patterns\"\u001b[0m\u001b[0;34m)\u001b[0m\u001b[0;34m\u001b[0m\u001b[0;34m\u001b[0m\u001b[0m\n",
      "\u001b[0;31mFileExistsError\u001b[0m: [Errno 17] File exists: '../kikuchipy/data/temp/'"
     ]
    }
   ],
   "source": [
    "tempdir = datadir + \"temp/\"; os.mkdir(tempdir)\n",
    "s.save(tempdir + \"patterns\")"
   ]
  },
  {
   "cell_type": "markdown",
   "metadata": {},
   "source": [
    "<div class=\"alert alert-warning\">\n",
    "\n",
    "Warning\n",
    "\n",
    "If we want to overwrite an existing file:\n",
    "\n",
    "```python\n",
    "s.save(\"patterns.h5\", overwrite=True)\n",
    "```\n",
    "\n",
    "</div>"
   ]
  },
  {
   "cell_type": "markdown",
   "metadata": {},
   "source": [
    "If we want to save patterns in NORDIF's binary .dat format instead:"
   ]
  },
  {
   "cell_type": "code",
   "execution_count": 21,
   "metadata": {},
   "outputs": [],
   "source": [
    "s.save(tempdir + \"patterns.dat\")"
   ]
  },
  {
   "cell_type": "markdown",
   "metadata": {},
   "source": [
    "To save an `EBSDMasterPattern` to an HDF5 file, we use the [save method inherited from HyperSpy](http://hyperspy.org/hyperspy-doc/current/api/hyperspy.signal.html#hyperspy.signal.BaseSignal.save)\n",
    "to write to [their HDF5 specification](http://hyperspy.org/hyperspy-doc/current/user_guide/io.html#hspy-hyperspy-s-hdf5-specification):"
   ]
  },
  {
   "cell_type": "code",
   "execution_count": null,
   "metadata": {},
   "outputs": [],
   "source": [
    "s_hs.save(tempdir + \"master_pattern.hspy\")\n",
    "s_hs"
   ]
  },
  {
   "cell_type": "markdown",
   "metadata": {},
   "source": [
    "These master patterns can then be read into an `EBSDMasterPattern` signal again\n",
    "via HyperSpy's\n",
    "[load()](http://hyperspy.org/hyperspy-doc/current/api/hyperspy.io.html#hyperspy.io.load):"
   ]
  },
  {
   "cell_type": "code",
   "execution_count": null,
   "metadata": {},
   "outputs": [],
   "source": [
    "s_mp2 = hs.load(\n",
    "    tempdir + \"master_pattern.hspy\", signal_type=\"EBSDMasterPattern\"\n",
    ")\n",
    "s_mp2"
   ]
  },
  {
   "cell_type": "markdown",
   "metadata": {},
   "source": [
    "<div class=\"alert alert-info\">\n",
    "\n",
    "Note\n",
    "\n",
    "To save results from statistical decomposition (machine learning) of patterns to\n",
    "file see the section\n",
    "[Saving and loading results](http://hyperspy.org/hyperspy-doc/current/user_guide/mva.html#saving-and-loading-results)\n",
    "in HyperSpy's user guide. Note that the file extension `.hspy` must be used upon\n",
    "saving, `s.save('patterns.hspy')`, as the default extension in kikuchipy, `.h5`,\n",
    "yields a kikuchipy h5ebsd file where the decomposition results aren't saved. The\n",
    "saved patterns can then be reloaded using HyperSpy's `load()` function and\n",
    "passing the `signal_type=\"EBSD\"` parameter\n",
    "[as explained above](#From-a-HyperSpy-signal).\n",
    "\n",
    "</div>"
   ]
  },
  {
   "cell_type": "markdown",
   "metadata": {},
   "source": [
    "---\n",
    "## Supported EBSD formats\n",
    "\n",
    "Currently, kikuchipy has readers and writers for the following formats:\n",
    "\n",
    "| Format                          | Read | Write |\n",
    "| ------------------------------- | ---- | ----- |\n",
    "| Bruker Nano h5ebsd              | Yes  | No    |\n",
    "| EDAX TSL h5ebsd                 | Yes  | No    |\n",
    "| kikuchipy h5ebsd                | Yes  | Yes   |\n",
    "| NORDIF binary                   | Yes  | Yes   |\n",
    "| EMsoft simulated EBSD HDF5      | Yes  | No    |\n",
    "| EMsoft EBSD master pattern HDF5 | Yes  | No    |\n",
    "| Bruker Nano h5ebsd              | Yes  | No    |\n",
    "\n",
    "<div class=\"alert alert-info\">\n",
    "\n",
    "Note\n",
    "\n",
    "If you want to process your patterns with kikuchipy, but use an unsupported EBSD\n",
    "vendor software, or if you want to write your processed patterns to a vendor\n",
    "format that does not support writing, please request this feature in our\n",
    "[issue tracker](https://github.com/pyxem/kikuchipy/issues).\n",
    "\n",
    "</div>"
   ]
  },
  {
   "cell_type": "markdown",
   "metadata": {},
   "source": [
    "### h5ebsd\n",
    "\n",
    "The h5ebsd format\n",
    "<cite data-cite=\"jackson2014h5ebsd\">Jackson et al. (2014)</cite> is based on the\n",
    "[HDF5 open standard](http://www.hdfgroup.org/HDF5) (Hierarchical Data Format\n",
    "version 5). HDF5 files can be read and edited using e.g. the HDF Group's reader\n",
    "[HDFView](https://www.hdfgroup.org/downloads/hdfview) or the Python package\n",
    "used by kikuchipy, [h5py](http://docs.h5py.org/en/stable). Upon loading an HDF5\n",
    "file with extension .h5, .hdf5, or .h5ebsd, the correct reader is determined\n",
    "from the file. Supported h5ebsd formats are listed in the\n",
    "[table above](#Supported-EBSD-formats).\n",
    "\n",
    "If an h5ebsd file contains multiple scans, as many scans as desirable can be\n",
    "read from the file. For example, if the file contains two scans with names\n",
    "``My awes0m4 Xcan #! with a long title`` and ``Scan 2``:"
   ]
  },
  {
   "cell_type": "code",
   "execution_count": null,
   "metadata": {},
   "outputs": [],
   "source": [
    "kikuchipy_ebsd = \"kikuchipy/patterns.h5\"\n",
    "s_awsm, s2 = kp.load(\n",
    "    filename=datadir + kikuchipy_ebsd,\n",
    "    scan_group_names=[\"My awes0m4 Xcan #! with a long title\", \"Scan 2\"]\n",
    ")\n",
    "print(s_awsm)\n",
    "print(s2)"
   ]
  },
  {
   "cell_type": "markdown",
   "metadata": {},
   "source": [
    "Here, the h5ebsd\n",
    "[file_reader()](reference.rst#kikuchipy.io.plugins.h5ebsd.file_reader) is\n",
    "called. If only `Scan 2` is to be read, `scan_group_names=\"Scan 2\"` can be\n",
    "passed:"
   ]
  },
  {
   "cell_type": "code",
   "execution_count": null,
   "metadata": {},
   "outputs": [],
   "source": [
    "s2 = kp.load(filename=datadir + kikuchipy_ebsd, scan_group_names=\"Scan 2\")\n",
    "s2"
   ]
  },
  {
   "cell_type": "markdown",
   "metadata": {},
   "source": [
    "The `scan_group_names` parameter is unnecessary if only the first scan in the\n",
    "file is to be read, since reading only the first scan in the file is the default\n",
    "behaviour.\n",
    "\n",
    "So far, only [saving patterns](#Save-patterns) to kikuchipy's own h5ebsd format\n",
    "is supported. It is possible to write a new scan with a scan name `Scan x`,\n",
    "where `x` is an integer, to an existing, but closed, h5ebsd file in the\n",
    "kikuchipy format, e.g. one containing only `Scan 1`, by passing:"
   ]
  },
  {
   "cell_type": "code",
   "execution_count": null,
   "metadata": {},
   "outputs": [],
   "source": [
    "new_file = \"patterns_new.h5\"\n",
    "s2.save(tempdir + new_file, scan_number=1)\n",
    "s_awsm.save(filename=tempdir + new_file, add_scan=True, scan_number=2)\n",
    "\n",
    "s2_new, s_awsm_new = kp.load(\n",
    "    filename=tempdir + new_file, scan_group_names=[\"Scan 1\", \"Scan 2\"]\n",
    ")\n",
    "print(s2_new)\n",
    "print(s_awsm_new)"
   ]
  },
  {
   "cell_type": "markdown",
   "metadata": {},
   "source": [
    "Here, the h5ebsd\n",
    "[file_writer()](reference.rst#kikuchipy.io.plugins.h5ebsd.file_writer) is\n",
    "called.\n",
    "\n",
    "<div class=\"alert alert-info\">\n",
    "\n",
    "Note\n",
    "    \n",
    "The `EBSD.xmap` and `EBSD.detector` properties are so far not written to this\n",
    "file format.\n",
    "\n",
    "</div>"
   ]
  },
  {
   "cell_type": "markdown",
   "metadata": {},
   "source": [
    "### NORDIF binary\n",
    "\n",
    "Patterns acquired using NORDIF's acquisition software are stored in a binary\n",
    "file usually named `Pattern.dat`. Scan information is stored in a separate text\n",
    "file usually named `Setting.txt`, and both files usually reside in the same\n",
    "directory. If this is the case, the patterns can be loaded by passing the file\n",
    "name as the only parameter. If this is not the case, the setting file can be\n",
    "passed upon loading:"
   ]
  },
  {
   "cell_type": "code",
   "execution_count": null,
   "metadata": {},
   "outputs": [],
   "source": [
    "s_nordif = kp.load(\n",
    "    filename=datadir + nordif_ebsd, setting_file=datadir + \"nordif/Setting.txt\"\n",
    ")\n",
    "s_nordif"
   ]
  },
  {
   "cell_type": "markdown",
   "metadata": {},
   "source": [
    "Here, the NORDIF\n",
    "[file_reader()](reference.rst#kikuchipy.io.plugins.nordif.file_reader) is\n",
    "called. If the scan information, i.e. scan and pattern size, in the setting file\n",
    "is incorrect or the setting file is not available, patterns can be loaded by\n",
    "passing:"
   ]
  },
  {
   "cell_type": "code",
   "execution_count": null,
   "metadata": {},
   "outputs": [],
   "source": [
    "s_nordif = kp.load(\n",
    "    filename=datadir + nordif_ebsd, scan_size=(1, 9), pattern_size=(60, 60)\n",
    ")\n",
    "s_nordif"
   ]
  },
  {
   "cell_type": "markdown",
   "metadata": {},
   "source": [
    "If a static background pattern named `Background acquisition.bmp` is stored in\n",
    "the same directory as the pattern file, this is stored in ``metadata`` upon\n",
    "loading.\n",
    "\n",
    "Patterns can also be [saved to a NORDIF binary file](#Save-patterns), upon\n",
    "which the NORDIF\n",
    "[file_writer()](reference.rst#kikuchipy.io.plugins.nordif.file_writer) is\n",
    "called. Note, however, that so far no new setting file, background pattern, or\n",
    "calibration patterns are created upon saving."
   ]
  },
  {
   "cell_type": "markdown",
   "metadata": {},
   "source": [
    "### EMsoft simulated EBSD HDF5\n",
    "\n",
    "Dynamically simulated EBSD patterns returned by EMsoft's `EMEBSD.f90` program\n",
    "as HDF5 files can be read as an `EBSD` signal:"
   ]
  },
  {
   "cell_type": "code",
   "execution_count": null,
   "metadata": {},
   "outputs": [],
   "source": [
    "emsoft_ebsd = \"emsoft_ebsd/simulated_ebsd.h5\"  # Dummy data set\n",
    "s_sim = kp.load(filename=datadir + emsoft_ebsd)\n",
    "s_sim"
   ]
  },
  {
   "cell_type": "markdown",
   "metadata": {},
   "source": [
    "Here, the EMsoft simulated EBSD\n",
    "[file_reader()](reference.rst#kikuchipy.io.plugins.emsoft_ebsd.file_reader) is\n",
    "called, which takes the optional argument `scan_size`. Passing\n",
    "`scan_size=(2, 5)` will reshape the pattern data shape from `(10, 10, 10)` to\n",
    "`(2, 5, 10, 10)`:"
   ]
  },
  {
   "cell_type": "code",
   "execution_count": null,
   "metadata": {},
   "outputs": [],
   "source": [
    "s_sim2 = kp.load(filename=datadir + emsoft_ebsd, scan_size=(2, 5))\n",
    "print(s_sim2)\n",
    "print(s_sim2.data.shape)"
   ]
  },
  {
   "cell_type": "markdown",
   "metadata": {},
   "source": [
    "Simulated EBSD patterns can be written to the\n",
    "[kikuchipy h5ebsd format](#h5ebsd), the [NORDIF binary format](#NORDIF-binary),\n",
    "or to HDF5 files using HyperSpy's HDF5 specification\n",
    "[as explained above](#Save-patterns)."
   ]
  },
  {
   "cell_type": "markdown",
   "metadata": {},
   "source": [
    "### EMsoft EBSD master pattern HDF5\n",
    "\n",
    "Master patterns returned by EMsoft's `EMEBSDmaster.f90` program as HDF5 files\n",
    "can be read as an `EBSDMasterPattern` signal:"
   ]
  },
  {
   "cell_type": "code",
   "execution_count": null,
   "metadata": {},
   "outputs": [],
   "source": [
    "s_mp = kp.load(filename=datadir + emsoft_master_pattern)\n",
    "\n",
    "print(s_mp)\n",
    "print(s_mp.projection)\n",
    "print(s_mp.hemisphere)\n",
    "print(s_mp.phase)"
   ]
  },
  {
   "cell_type": "markdown",
   "metadata": {},
   "source": [
    "Here, the EMsoft EBSD master pattern\n",
    "[file_reader()](reference.rst#kikuchipy.io.plugins.emsoft_ebsd_master_pattern.file_reader)\n",
    "is called, which takes the optional arguments `projection`, `hemisphere` and\n",
    "`energy`. The spherical projection is read by default. Passing\n",
    "`projection=\"lambert\"` will read the square Lambert projection instead. The\n",
    "northern hemisphere is read by default. Passing `hemisphere=\"south\"` or\n",
    "`hemisphere=\"both\"` will read the southern hemisphere projection or both,\n",
    "respectively. Master patterns for all beam energies are read by default. Passing\n",
    "`energy=(10, 20)` or `energy=15` will read the master pattern(s) with beam\n",
    "energies from 10 to 20 keV, or just 15 keV, respectively:"
   ]
  },
  {
   "cell_type": "code",
   "execution_count": null,
   "metadata": {},
   "outputs": [],
   "source": [
    "s_mp = kp.load(\n",
    "    datadir + emsoft_master_pattern,\n",
    "    projection=\"lambert\",\n",
    "    hemisphere=\"both\",\n",
    "    energy=20\n",
    ")\n",
    "\n",
    "print(s_mp)\n",
    "print(s_mp.projection)\n",
    "print(s_mp.hemisphere)"
   ]
  },
  {
   "cell_type": "markdown",
   "metadata": {},
   "source": [
    "Master patterns can be written to HDF5 files using HyperSpy's HDF5 specification\n",
    "[as explained above](#Save-patterns).\n",
    "\n",
    "See <cite data-cite=\"jackson2019dictionary\">Jackson et al. (2019)</cite> for a\n",
    "hands-on tutorial explaining how to simulate these patterns with EMsoft, and\n",
    "<cite data-cite=\"callahan2013dynamical\">Callahan & De Graef (2013)</cite> for\n",
    "details of the underlying theory."
   ]
  },
  {
   "cell_type": "markdown",
   "metadata": {},
   "source": [
    "## From kikuchipy into other software\n",
    "\n",
    "Patterns saved in the [h5ebsd format](#h5ebsd) can be read by the\n",
    "dictionary indexing and related routines in\n",
    "[EMsoft](http://vbff.materials.cmu.edu/EMsoft) using the `EMEBSD` reader. Those\n",
    "routines in EMsoft also have a `NORDIF` reader.\n",
    "\n",
    "Patterns saved in the [h5ebsd format](#h5ebsd) can of course be read\n",
    "in Python like any other HDF5 data set:"
   ]
  },
  {
   "cell_type": "code",
   "execution_count": null,
   "metadata": {},
   "outputs": [],
   "source": [
    "import h5py\n",
    "with h5py.File(datadir + kikuchipy_ebsd, mode=\"r\") as f:\n",
    "    dset = f['Scan 2/EBSD/Data/patterns']\n",
    "    print(dset)\n",
    "    patterns = dset[()]\n",
    "    print(patterns.shape)\n",
    "    plt.figure()\n",
    "    plt.imshow(patterns[0], cmap=\"gray\")"
   ]
  },
  {
   "cell_type": "markdown",
   "metadata": {},
   "source": [
    "## Load and save virtual BSE images\n",
    "\n",
    "One or more virtual backscatter electron (BSE) images in a\n",
    "[VirtualBSEImage](reference.rst#kikuchipy.signals.VirtualBSEImage) signal can be\n",
    "read and written to file using one of HyperSpy's many readers and writers. If\n",
    "they are only to be used internally in HyperSpy, they can be written to and read\n",
    "back from HyperSpy's HDF5 specification\n",
    "[as explained above for EBSD master patterns](#Save-patterns).\n",
    "\n",
    "If we want to write the images to image files, HyperSpy also provides a series\n",
    "of image readers/writers, as explained in their\n",
    "[IO user guide](http://hyperspy.org/hyperspy-doc/current/user_guide/io.html#images).\n",
    "If we wanted to write them as a stack of TIFF images:"
   ]
  },
  {
   "cell_type": "code",
   "execution_count": null,
   "metadata": {},
   "outputs": [],
   "source": [
    "# Get virtual image from generator\n",
    "vbse_gen = kp.generators.VirtualBSEGenerator(s)\n",
    "print(vbse_gen)\n",
    "\n",
    "print(vbse_gen.grid_shape)\n",
    "vbse = vbse_gen.get_images_from_grid()\n",
    "print(vbse)"
   ]
  },
  {
   "cell_type": "code",
   "execution_count": null,
   "metadata": {},
   "outputs": [],
   "source": [
    "vbse.rescale_intensity()\n",
    "vbse.unfold_navigation_space()  # 1D navigation space required for TIFF\n",
    "vbse"
   ]
  },
  {
   "cell_type": "code",
   "execution_count": null,
   "metadata": {},
   "outputs": [],
   "source": [
    "vbse_fname = \"vbse.tif\"\n",
    "vbse.save(tempdir + vbse_fname)  # Easily read into e.g. ImageJ"
   ]
  },
  {
   "cell_type": "markdown",
   "metadata": {},
   "source": [
    "We can also write them to e.g. `png` or `bmp` files with `Matplotlib`:"
   ]
  },
  {
   "cell_type": "code",
   "execution_count": null,
   "metadata": {},
   "outputs": [],
   "source": [
    "nav_size = vbse.axes_manager.navigation_size\n",
    "_ = [\n",
    "    plt.imsave(tempdir + f\"vbse{i}.png\", vbse.inav[i].data)\n",
    "    for i in range(nav_size)\n",
    "]"
   ]
  },
  {
   "cell_type": "markdown",
   "metadata": {},
   "source": [
    "Read the TIFF stack back into a `VirtualBSEImage` signal:"
   ]
  },
  {
   "cell_type": "code",
   "execution_count": null,
   "metadata": {},
   "outputs": [],
   "source": [
    "vbse2 = hs.load(tempdir + vbse_fname, signal_type=\"VirtualBSEImage\")\n",
    "vbse2"
   ]
  },
  {
   "cell_type": "code",
   "execution_count": null,
   "metadata": {
    "nbsphinx": "hidden"
   },
   "outputs": [],
   "source": [
    "from shutil import rmtree\n",
    "rmtree(tempdir)  # Remove files written to disk in this user guide"
   ]
  }
 ],
 "metadata": {
  "kernelspec": {
   "display_name": "Python 3",
   "language": "python",
   "name": "python3"
  },
  "language_info": {
   "codemirror_mode": {
    "name": "ipython",
    "version": 3
   },
   "file_extension": ".py",
   "mimetype": "text/x-python",
   "name": "python",
   "nbconvert_exporter": "python",
   "pygments_lexer": "ipython3",
   "version": "3.8.6"
  }
 },
 "nbformat": 4,
 "nbformat_minor": 4
}

{
 "cells": [
  {
   "cell_type": "markdown",
   "metadata": {
    "nbsphinx": "hidden"
   },
   "source": [
    "This notebook is part of the `kikuchipy` documentation https://kikuchipy.org.\n",
    "Links to the documentation won't work from the notebook."
   ]
  },
  {
   "cell_type": "markdown",
   "metadata": {},
   "source": [
    "# Virtual backscatter electron imaging"
   ]
  },
  {
   "cell_type": "code",
   "execution_count": 22,
   "metadata": {},
   "outputs": [],
   "source": [
    "# exchange inline for qt5 for interactive plotting from the pyqt package\n",
    "%matplotlib qt5\n",
    "\n",
    "import os\n",
    "import hyperspy.api as hs\n",
    "import matplotlib.pyplot as plt\n",
    "import numpy as np\n",
    "import kikuchipy as kp\n",
    "\n",
    "\n",
    "datadir = \"../kikuchipy/data/\"  # For saving data"
   ]
  },
  {
   "cell_type": "markdown",
   "metadata": {},
   "source": [
    "## Interactive plotting\n",
    "\n",
    "Angle resolved backscatter electron (BSE) imaging can be performed interactively\n",
    "with the method\n",
    "[plot_virtual_bse_intensity()](reference.rst#kikuchipy.signals.EBSD.plot_virtual_bse_intensity),\n",
    "adopted from [pyxem](https://github.com/pyxem/pyxem), by integrating the\n",
    "intensities within a part, e.g. a (10 x 10) pixel rectangular region of interest\n",
    "(ROI), of the stack of EBSD patterns:"
   ]
  },
  {
   "cell_type": "code",
   "execution_count": 12,
   "metadata": {},
   "outputs": [
    {
     "data": {
      "text/plain": [
       "RectangularROI(left=0, top=0, right=10, bottom=10)"
      ]
     },
     "execution_count": 12,
     "metadata": {},
     "output_type": "execute_result"
    }
   ],
   "source": [
    "roi = hs.roi.RectangularROI(left=0, top=0, right=10, bottom=10)\n",
    "roi"
   ]
  },
  {
   "cell_type": "code",
   "execution_count": 10,
   "metadata": {},
   "outputs": [],
   "source": [
    "s.plot_virtual_bse_intensity(roi)"
   ]
  },
  {
   "cell_type": "code",
   "execution_count": 11,
   "metadata": {},
   "outputs": [
    {
     "data": {
      "text/plain": [
       "RectangularROI(left=13, top=26, right=14, bottom=27)"
      ]
     },
     "execution_count": 11,
     "metadata": {},
     "output_type": "execute_result"
    }
   ],
   "source": [
    "roi"
   ]
  },
  {
   "cell_type": "markdown",
   "metadata": {},
   "source": [
    "IMAGE"
   ]
  },
  {
   "cell_type": "markdown",
   "metadata": {},
   "source": [
    "Note that the position of the ROI on the detector is updated during the\n",
    "interactive plotting. See\n",
    "[HyperSpy's ROI user guide](http://hyperspy.org/hyperspy-doc/current/user_guide/interactive_operations_ROIs.html#region-of-interest-roi)\n",
    "for more detailed use of ROIs.\n",
    "\n",
    "The virtual image, created from integrating the intensities within the ROI, can\n",
    "then be written to an image file using\n",
    "[get_virtual_bse_intensity](reference.rst#kikuchipy.signals.EBSD.get_virtual_bse_intensity)."
   ]
  },
  {
   "cell_type": "code",
   "execution_count": 13,
   "metadata": {},
   "outputs": [
    {
     "data": {
      "text/plain": [
       "<VirtualBSEImage, title: Virtual backscatter electron image, dimensions: (|75, 55)>"
      ]
     },
     "execution_count": 13,
     "metadata": {},
     "output_type": "execute_result"
    }
   ],
   "source": [
    "vbse = s.get_virtual_bse_intensity(roi)\n",
    "vbse"
   ]
  },
  {
   "cell_type": "code",
   "execution_count": 14,
   "metadata": {},
   "outputs": [],
   "source": [
    "tempdir = datadir + \"temp/\"; os.mkdir(tempdir)\n",
    "plt.imsave(tempdir + \"vbse1.png\", arr=vbse.data)"
   ]
  },
  {
   "cell_type": "markdown",
   "metadata": {},
   "source": [
    "A [VirtualBSEImage](reference.rst#kikuchipy.signals.VirtualBSEImage) instance is\n",
    "returned."
   ]
  },
  {
   "cell_type": "markdown",
   "metadata": {},
   "source": [
    "## Generate many virtual images\n",
    "\n",
    "Sometimes we want to get many images from parts of the detector, e.g. like what\n",
    "is demonstrated in the\n",
    "[xcdskd project](https://xcdskd.readthedocs.io/en/latest/bse_imaging.html) with\n",
    "the angle resolved virtual backscatter electron array (arbse/vbse array).\n",
    "Instead of keeping track of multiple\n",
    "[hyperspy.roi.BaseInteractiveROI](http://hyperspy.org/hyperspy-doc/current/api/hyperspy.roi.html#hyperspy.roi.BaseInteractiveROI)\n",
    "objects, we can create a detector grid of a certain shape, e.g. (5, 5), and\n",
    "obtain gray scale images, or combine multiple grid tiles in red, green and\n",
    "channels to obtain RGB images.\n",
    "\n",
    "First, we initialize a virtual BSE image generator,\n",
    "[kikuchipy.generators.VirtualBSEGenerator](reference.rst#kikuchipy.generators.VirtualBSEGenerator),\n",
    "with an [EBSD](reference.rst#kikuchipy.signals.EBSD) signal, in this case the\n",
    "raw EBSD patterns without any background correction or other processing."
   ]
  },
  {
   "cell_type": "code",
   "execution_count": 23,
   "metadata": {},
   "outputs": [
    {
     "data": {
      "text/plain": [
       "<EBSD, title: patterns Scan 1, dimensions: (75, 55|60, 60)>"
      ]
     },
     "execution_count": 23,
     "metadata": {},
     "output_type": "execute_result"
    }
   ],
   "source": [
    "s = kp.data.nickel_ebsd_large(allow_download=True)\n",
    "s"
   ]
  },
  {
   "cell_type": "code",
   "execution_count": 24,
   "metadata": {},
   "outputs": [
    {
     "data": {
      "text/plain": [
       "VirtualBSEGenerator for <EBSD, title: patterns Scan 1, dimensions: (75, 55|60, 60)>"
      ]
     },
     "execution_count": 24,
     "metadata": {},
     "output_type": "execute_result"
    }
   ],
   "source": [
    "vbse_gen = kp.generators.VirtualBSEGenerator(s)\n",
    "vbse_gen"
   ]
  },
  {
   "cell_type": "markdown",
   "metadata": {},
   "source": [
    "We can set and plot the detector grid on one of the EBSD patterns, also coloring\n",
    "one or more of the grid tiles red, green and blue, as is done in\n",
    "<cite data-cite=\"nolze2017electron\">Nolze et al. (2017)</cite>, by calling\n",
    "[VirtualBSEGenerator.plot_grid](reference.rst#kikuchipy.generators.VirtualBSEGenerator.plot_grid)."
   ]
  },
  {
   "cell_type": "code",
   "execution_count": 25,
   "metadata": {},
   "outputs": [
    {
     "data": {
      "text/plain": [
       "(5, 5)"
      ]
     },
     "execution_count": 25,
     "metadata": {},
     "output_type": "execute_result"
    }
   ],
   "source": [
    "vbse_gen.grid_shape"
   ]
  },
  {
   "cell_type": "code",
   "execution_count": 27,
   "metadata": {},
   "outputs": [
    {
     "data": {
      "text/plain": [
       "<EBSD, title: patterns Scan 1, dimensions: (|60, 60)>"
      ]
     },
     "execution_count": 27,
     "metadata": {},
     "output_type": "execute_result"
    }
   ],
   "source": [
    "vbse_gen.grid_shape = (10, 10)\n",
    "red = [(7, 1), (8, 1), (8, 2), (9, 1), (9, 2)]\n",
    "green = [(8, 4), (8, 5), (9, 4), (9, 5)]\n",
    "blue = [(7, 8), (8, 7), (8, 8), (9, 7), (9, 8)]\n",
    "p = vbse_gen.plot_grid(\n",
    "    rgb_channels=[red, green, blue],\n",
    "    visible_indices=True,  # Default\n",
    "    pattern_idx=(10, 20),  # Default is (0, 0)\n",
    ")\n",
    "p"
   ]
  },
  {
   "cell_type": "markdown",
   "metadata": {},
   "source": [
    "\n",
    "As shown above, whether to show the grid tile indices or not is controlled with\n",
    "the ``visible_indices`` argument, and which signal pattern to superimpose the\n",
    "grid upon is controlled with the ``pattern_idx`` parameter.\n",
    "\n",
    ".. figure:: _static/image/virtual_backscatter_electron_imaging/plot_grid.jpg\n",
    "    :align: center\n",
    "    :width: 450\n",
    "\n",
    "    Detector grid tiles, with tiles to be used for creating an RGB image colored\n",
    "    red, green and blue.\n",
    "\n",
    "To obtain an RGB image from the detector grid tiles shown above, we use\n",
    ":meth:`~kikuchipy.generators.VirtualBSEGenerator.get_rgb_image` (see the\n",
    "docstring for all available parameters):\n",
    "\n",
    ".. code-block::\n",
    "\n",
    "    >>> vbse_rgb_img = vbse_gen.get_rgb_image(r=red, g=green, b=blue)\n",
    "    >>> vbse_rgb_img\n",
    "    <VirtualBSEImage, title: , dimensions: (|200, 149)>\n",
    "    >>> vbse_rgb_img.plot()\n",
    "\n",
    ".. figure:: _static/image/virtual_backscatter_electron_imaging/rgb_image.jpg\n",
    "    :align: center\n",
    "    :width: 450\n",
    "\n",
    "    An RGB image formed from coloring three grey scale virtual BSE images red,\n",
    "    green and blue.\n",
    "\n",
    "To obtain one grey scale virtual BSE image from each grid tile, we use\n",
    ":meth:`~kikuchipy.generators.VirtualBSEGenerator.get_images_from_grid`:\n",
    "\n",
    ".. code-block::\n",
    "\n",
    "    >>> vbse_imgs = vbse_gen.get_images_from_grid()\n",
    "    >>> vbse_imgs\n",
    "    <VirtualBSEImage, title: , dimensions: (5, 5|200, 149)>\n",
    "    >>> vbse_imgs.plot()\n",
    "\n",
    ".. figure:: _static/image/virtual_backscatter_electron_imaging/images.jpg\n",
    "    :align: center\n",
    "    :width: 100%\n",
    "\n",
    "    25 grey scale virtual BSE images, one from each tile in a (5, 5) detector\n",
    "    grid.\n",
    "\n",
    "It might be desirable to normalize or scale the intensities in the images, as\n",
    "shown e.g. in Fig. 9 in [Wright2015b]_. This can be done with\n",
    ":meth:`~kikuchipy.signals.VirtualBSEImage.rescale_intensity` or\n",
    ":meth:`~kikuchipy.signals.VirtualBSEImage.normalize_intensity`:\n",
    "\n",
    ".. [Wright2015b] S. I. Wright, M. M. Nowell, R. De Kloe, P. Camus, T. Rampton, \\\n",
    "    \"Electron imaging with an EBSD detector,\" *Ultramicroscopy* **148** (2015),\n",
    "    doi: http://dx.doi.org/10.1016/j.ultramic.2014.10.002.\n",
    "\n",
    ".. code-block::\n",
    "\n",
    "    >>> vbse_imgs.data.dtype\n",
    "    dtype('float32')\n",
    "    >>> print(vbse_imgs.data.min(), vbse_imgs.data.max())\n",
    "    5629.0 31810.0\n",
    "    >>> vbse_imgs.rescale_intensity()\n",
    "    Rescaling the image intensities:\n",
    "    [########################################] | 100% Completed |  0.3s\n",
    "    >>> print(vbse_imgs.data.min(), vbse_imgs.data.max())\n",
    "    -1.0 1.0\n",
    "\n",
    "To obtain a rectangular ROI from the grid, we can use\n",
    ":meth:`~kikuchipy.generators.VirtualBSEGenerator.roi_from_grid`:\n",
    "\n",
    ".. code-block::\n",
    "\n",
    "    >>> roi = vbse_gen.roi_from_grid((3, 3))  # (Row, column)\n",
    "    >>> roi\n",
    "    RectangularROI(left=18, top=18, right=24, bottom=24)"
   ]
  },
  {
   "cell_type": "code",
   "execution_count": null,
   "metadata": {
    "nbsphinx": "hidden"
   },
   "outputs": [],
   "source": [
    "from shutil import rmtree\n",
    "rmtree(tempdir)  # Remove files written to disk in this user guide"
   ]
  }
 ],
 "metadata": {
  "kernelspec": {
   "display_name": "Python 3",
   "language": "python",
   "name": "python3"
  },
  "language_info": {
   "codemirror_mode": {
    "name": "ipython",
    "version": 3
   },
   "file_extension": ".py",
   "mimetype": "text/x-python",
   "name": "python",
   "nbconvert_exporter": "python",
   "pygments_lexer": "ipython3",
   "version": "3.8.6"
  }
 },
 "nbformat": 4,
 "nbformat_minor": 4
}

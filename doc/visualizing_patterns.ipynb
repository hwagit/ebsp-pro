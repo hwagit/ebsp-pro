{
 "cells": [
  {
   "cell_type": "markdown",
   "metadata": {
    "nbsphinx": "hidden"
   },
   "source": [
    "This notebook is part of the `kikuchipy` documentation https://kikuchipy.org.\n",
    "Links to the documentation won't work from the notebook."
   ]
  },
  {
   "cell_type": "markdown",
   "metadata": {},
   "source": [
    "# Visualizing patterns\n",
    "\n",
    "The [EBSD](reference.rst#kikuchipy.signals.EBSD) and\n",
    "[EBSDMasterPattern](reference.rst#kikuchipy.signals.EBSDMasterPattern) signals\n",
    "have a powerful and versatile\n",
    "[plot()](http://hyperspy.org/hyperspy-doc/current/api/hyperspy.signal.html#hyperspy.signal.BaseSignal.plot)\n",
    "method provided by HyperSpy. Its uses are greatly detailed in HyperSpy's\n",
    "[visualisation user guide](http://hyperspy.org/hyperspy-doc/current/user_guide/visualisation.html).\n",
    "This section details example uses specific to EBSD and EBSDMasterPattern\n",
    "signals.\n",
    "\n",
    "Let's import the necessary libraries and a Nickel EBSD test data set:"
   ]
  },
  {
   "cell_type": "code",
   "execution_count": null,
   "metadata": {},
   "outputs": [],
   "source": [
    "# exchange inline for qt5 for interactive plotting from the pyqt package\n",
    "%matplotlib inline\n",
    "\n",
    "import hyperspy.api as hs\n",
    "import kikuchipy as kp\n",
    "import matplotlib.pyplot as plt\n",
    "import numpy as np\n",
    "\n",
    "\n",
    "# Use kp.load(\"data.h5\") to load your own data\n",
    "s = kp.data.nickel_ebsd_large(allow_download=True)  # External download\n",
    "s"
   ]
  },
  {
   "cell_type": "markdown",
   "metadata": {},
   "source": [
    "## Navigate in custom map\n",
    "\n",
    "Correlating results from e.g. crystal and phase structure determination, i.e.\n",
    "indexing, with experimental patterns can inform their interpretation. When\n",
    "calling `plot` without any input parameters, the navigator map is a grey scale\n",
    "image with pixel values corresponding to the sum of all detector intensities\n",
    "within that pattern:"
   ]
  },
  {
   "cell_type": "code",
   "execution_count": null,
   "metadata": {},
   "outputs": [],
   "source": [
    "s.plot()"
   ]
  },
  {
   "cell_type": "markdown",
   "metadata": {},
   "source": [
    "However, any\n",
    "[BaseSignal](http://hyperspy.org/hyperspy-doc/current/api/hyperspy.signal.html#hyperspy.signal.BaseSignal)\n",
    "signal with a two-dimensional `signal_shape` corresponding to the scan\n",
    "`navigation_shape` can be passed in to the `navgiator` parameter in\n",
    "[plot()](http://hyperspy.org/hyperspy-doc/current/api/hyperspy.signal.html#hyperspy.signal.BaseSignal.plot),\n",
    "including a virtual image showing diffraction contrast, any quality metric map,\n",
    "or an orientation map or a phase map."
   ]
  },
  {
   "cell_type": "markdown",
   "metadata": {},
   "source": [
    "## Virtual image"
   ]
  },
  {
   "cell_type": "markdown",
   "metadata": {},
   "source": [
    "A virtual backscatter electron (VBSE) image created from any detector region of\n",
    "interest with the\n",
    "[get_virtual_bse_intensity()](reference.rst#kikuchipy.signals.EBSD.get_virtual_bse_intensity)\n",
    "method or\n",
    "[get_rgb_image()](reference.rst#kikuchipy.generators.VirtualBSEGenerator.get_rgb_image)\n",
    "explained in the\n",
    "[virtual backscatter electron imaging](virtual_backscatter_electron_imaging.rst)\n",
    "section, can be used as a navigator for a scan `s`:"
   ]
  },
  {
   "cell_type": "code",
   "execution_count": null,
   "metadata": {},
   "outputs": [],
   "source": [
    "vbse_gen = kp.generators.VirtualBSEGenerator(s)\n",
    "print(vbse_gen)\n",
    "print(vbse_gen.grid_shape)"
   ]
  },
  {
   "cell_type": "code",
   "execution_count": null,
   "metadata": {},
   "outputs": [],
   "source": [
    "vbse_rgb = vbse_gen.get_rgb_image(r=(4, 1), b=(4, 2), g=(4, 3))\n",
    "vbse_rgb"
   ]
  },
  {
   "cell_type": "code",
   "execution_count": null,
   "metadata": {},
   "outputs": [],
   "source": [
    "s.plot(navigator=vbse_rgb)"
   ]
  },
  {
   "cell_type": "markdown",
   "metadata": {},
   "source": [
    "## Any image\n",
    "\n",
    "Images loaded into a\n",
    "[Signal2D](http://hyperspy.org/hyperspy-doc/current/api/hyperspy._signals.signal2d.html#hyperspy._signals.signal2d.Signal2D)\n",
    "can be used as navigators, like a quality metric map like the\n",
    "[image quality map](feature_maps.ipynb#Image-quality) calculated using\n",
    "[get_image_quality()](reference.rst#kikuchipy.signals.EBSD.get_image_quality):"
   ]
  },
  {
   "cell_type": "code",
   "execution_count": null,
   "metadata": {},
   "outputs": [],
   "source": [
    "s.remove_static_background()\n",
    "s.remove_dynamic_background()"
   ]
  },
  {
   "cell_type": "code",
   "execution_count": null,
   "metadata": {},
   "outputs": [],
   "source": [
    "iq = s.get_image_quality()\n",
    "s_iq = hs.signals.Signal2D(iq)\n",
    "s.plot(navigator=s_iq)"
   ]
  },
  {
   "cell_type": "markdown",
   "metadata": {},
   "source": [
    "TODO: Orientation RGB image?\n",
    "\n",
    "Using colour images (apart from creating RGB virtual BSE images, as shown\n",
    "above), e.g. an orientation ``om`` or phase map, is a bit more involved:\n",
    "\n",
    ".. code-block::\n",
    "\n",
    "    >>> om = plt.imread('/path/to/orientation_map.jpg')\n",
    "    >>> om_scaled = ske.rescale_intensity(om, out_range=np.uint8)\n",
    "    >>> s_om = hs.signals.Signal2D(om_scaled)\n",
    "    >>> s_om\n",
    "    <Signal2D, title: , dimensions: (149|3, 200)>\n",
    "    >>> s_om = s_om.transpose(signal_axes=1)\n",
    "    >>> print(s_om, s_om.data.dtype)\n",
    "    <Signal1D, title: , dimensions: (200, 149|3)> uint8\n",
    "    >>> s_om.change_dtype('rgb8')\n",
    "    >>> s_om\n",
    "    <Signal2D, title: , dimensions: (|200, 149)> [('R', 'u1'), ('G', 'u1'), ('B', 'u1')]\n",
    "    >>> s.plot(navigator=s_om)\n",
    "\n",
    ".. _fig-orientation-map-navigator:\n",
    "\n",
    ".. figure:: _static/image/visualizing_patterns/om_navigation.jpg\n",
    "    :align: center\n",
    "    :width: 100%\n",
    "\n",
    "    Navigating EBSD patterns (left) in an orientation map ``s_om`` (right)."
   ]
  },
  {
   "cell_type": "markdown",
   "metadata": {},
   "source": [
    "TODO: Gif? Experimental alongside simulated (sampled from master pattern)?\n",
    "\n",
    "## Plot multiple scans\n",
    "\n",
    "HyperSpy provides the function :func:`~hyperspy.drawing.utils.plot_signals` to\n",
    "plot multiple signals with the same navigator, as explained in the `HyperSpy\n",
    "user guide\n",
    "<http://hyperspy.org/hyperspy-doc/current/user_guide/visualisation.html#plotting-several-signals>`_.\n",
    "This enables e.g. plotting of experimental and simulated patterns side by side\n",
    "as a visual inspection of the indexing results:\n",
    "\n",
    ".. code-block:: python\n",
    "\n",
    "    >>> import hyperspy.api as hs\n",
    "    >>> nav_shape = s.axes_manager.navigation_shape[::-1]\n",
    "    >>> s_sim = kp.load(\"simulated_patterns.h5\", scan_size=nav_shape)\n",
    "    >>> s_sim\n",
    "    <EBSD, title: simulated_patterns, dimensions: (200, 149|60, 60)>\n",
    "    >>> hs.plot.plot_signals([s, s_sim], navigator=s_om)\n",
    "\n",
    ".. _fig-plot-multiple-scans:\n",
    "\n",
    ".. figure:: _static/image/visualizing_patterns/plot_multiple_scans.gif\n",
    "    :align: center\n",
    "    :width: 100%\n",
    "\n",
    "    Plotting of experimental and simulated patterns side by side for visual\n",
    "    inspection, using an :ref:`orientation map as navigator\n",
    "    <fig-orientation-map-navigator>`."
   ]
  },
  {
   "cell_type": "markdown",
   "metadata": {},
   "source": [
    "## Plot master patterns\n",
    "\n",
    "[EBSDMasterPattern](reference.rst#kikuchipy.signals.EBSDMasterPattern) signals\n",
    "can be navigated along their energy axis and/or the their northern/southern\n",
    "hemisphere:"
   ]
  },
  {
   "cell_type": "code",
   "execution_count": null,
   "metadata": {},
   "outputs": [],
   "source": [
    "s_mp = kp.data.nickel_ebsd_master_pattern_small(\n",
    "    projection=\"spherical\", hemisphere=\"both\"\n",
    ")  # Only a single energy, 20 keV\n",
    "s_mp.axes_manager"
   ]
  },
  {
   "cell_type": "markdown",
   "metadata": {},
   "source": [
    "As can be seen from the axes manager, the master pattern has two navigation\n",
    "axes, a north and south hemisphere, thus, when plotting, we get a slider as a\n",
    "navigator when plotting:"
   ]
  },
  {
   "cell_type": "code",
   "execution_count": null,
   "metadata": {},
   "outputs": [],
   "source": [
    "s_mp.plot()"
   ]
  }
 ],
 "metadata": {
  "kernelspec": {
   "display_name": "Python 3",
   "language": "python",
   "name": "python3"
  },
  "language_info": {
   "codemirror_mode": {
    "name": "ipython",
    "version": 3
   },
   "file_extension": ".py",
   "mimetype": "text/x-python",
   "name": "python",
   "nbconvert_exporter": "python",
   "pygments_lexer": "ipython3",
   "version": "3.8.5"
  }
 },
 "nbformat": 4,
 "nbformat_minor": 4
}
